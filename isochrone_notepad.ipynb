{
 "cells": [
  {
   "cell_type": "code",
   "execution_count": null,
   "metadata": {},
   "outputs": [],
   "source": [
    "# import ipy_autoreload\n",
    "%reload_ext autoreload\n",
    "%autoreload 2\n",
    "%aimport isochrone\n",
    "from isochrone import *\n",
    "\n",
    "import os\n",
    "import geopandas as gpd\n",
    "import numpy as np\n",
    "import pandas as pd\n",
    "import osmnx as ox\n",
    "import networkx as nx\n",
    "import matplotlib\n",
    "from matplotlib import pyplot as plt\n",
    "from mpl_toolkits.axes_grid1 import make_axes_locatable\n",
    "from shapely.geometry import Point, LineString, Polygon\n",
    "from shapely.prepared import prep\n",
    "import alphashape\n",
    "import cartopy.crs as ccrs\n",
    "\n",
    "import lonboard\n",
    "from lonboard.colormap import apply_categorical_cmap"
   ]
  },
  {
   "cell_type": "code",
   "execution_count": null,
   "metadata": {},
   "outputs": [],
   "source": [
    "city = 'Cambridge'"
   ]
  },
  {
   "cell_type": "code",
   "execution_count": null,
   "metadata": {},
   "outputs": [],
   "source": [
    "gdf_nodes, all_lts, G_lts = load_files(city)"
   ]
  },
  {
   "cell_type": "code",
   "execution_count": null,
   "metadata": {},
   "outputs": [],
   "source": [
    "G1, G2, G3, G4, G1b, G2b, G3b, G4b = lts_map_graphs(G_lts, all_lts, gdf_nodes)"
   ]
  },
  {
   "cell_type": "code",
   "execution_count": null,
   "metadata": {},
   "outputs": [],
   "source": [
    "# Find independent/disconnected grpahs\n",
    "# Use to find areas to fix in OSM and filter out from heatmap\n",
    "# https://networkx.org/documentation/stable/reference/algorithms/generated/networkx.algorithms.components.weakly_connected_components.html#networkx.algorithms.components.weakly_connected_components\n",
    "\n",
    "graphSizes = [len(c) for c in sorted(nx.weakly_connected_components(G4), key=len, reverse=True)]\n",
    "isolates = list(nx.isolates(G4))\n",
    "\n",
    "# largest_cc = max(nx.weakly_connected_components(G_lts), key=len)\n",
    "# S = [G4.subgraph(c).copy() for c in nx.weakly_connected_components(G4)]\n",
    "# S0 = S[0]"
   ]
  },
  {
   "cell_type": "code",
   "execution_count": null,
   "metadata": {},
   "outputs": [],
   "source": [
    "alpha_shape = boundry_polygon(gdf_nodes, 200)\n",
    "valid_points = grid_points(alpha_shape, 25)\n",
    "plot_grid_boundary(gdf_nodes, alpha_shape, valid_points)"
   ]
  },
  {
   "cell_type": "code",
   "execution_count": null,
   "metadata": {},
   "outputs": [],
   "source": [
    "travel_speed = 15 #biking speed in km/hour\n",
    "\n",
    "G1b, G2b, G3b, G4b = edge_travel_times(travel_speed, G1b, G2b, G3b, G4b)"
   ]
  },
  {
   "cell_type": "code",
   "execution_count": null,
   "metadata": {},
   "outputs": [],
   "source": [
    "trip_time = 15 # minutes\n",
    "\n",
    "# point to start isochrone plot from\n",
    "y = 42.373696\n",
    "x = -71.110564\n",
    "\n",
    "point, nodeID = nearest_node(x, y, G1)\n",
    "\n",
    "node_colors, node_count = point_isochrone(nodeID, trip_time, G1b, G2b, G3b, G4b)\n",
    "\n",
    "point_isochrone_plot(city, point, node_colors, trip_time, G4b)"
   ]
  },
  {
   "cell_type": "code",
   "execution_count": null,
   "metadata": {},
   "outputs": [],
   "source": [
    "nodeIsochroneSummary = []\n",
    "for i, pt in enumerate(valid_points):\n",
    "    print(f'\\nPoint {i} at {pt.y}, {pt.x}')\n",
    "    point, nodeID = nearest_node(pt.x, pt.y, G1)\n",
    "    _, nodeCount = point_isochrone(nodeID, trip_time, G1b, G2b, G3b, G4b)\n",
    "    nodeIsochroneSummary.append([point, nodeID] + nodeCount)\n",
    "\n",
    "nodeIsochroneSummarydf = pd.DataFrame(nodeIsochroneSummary, columns=['point_node', 'node_id', 'LTS4', 'LTS3', 'LTS2', 'LTS1'])\n",
    "nodeIsochroneSummarydf['point_grid'] = valid_points"
   ]
  },
  {
   "cell_type": "code",
   "execution_count": null,
   "metadata": {},
   "outputs": [],
   "source": [
    "# nodeIsochroneSummarydf.sort_values(by=['LTS4'], ascending=True).head(15)\n",
    "nodeIsochroneSummarydf.sort_values(by=['LTS2'], ascending=False).head(15)"
   ]
  },
  {
   "cell_type": "code",
   "execution_count": null,
   "metadata": {},
   "outputs": [],
   "source": [
    "gs = gpd.GeoSeries(nodeIsochroneSummarydf['point_node'])\n",
    "\n",
    "nodeIsochroneSummaryGDF = gpd.GeoDataFrame(nodeIsochroneSummarydf, geometry=gs, crs='wgs84')\n",
    "\n",
    "nis1 = gpd.GeoDataFrame(nodeIsochroneSummarydf['LTS1'], geometry=gs, crs='wgs84')\n",
    "nis2 = gpd.GeoDataFrame(nodeIsochroneSummarydf['LTS2'], geometry=gs, crs='wgs84')\n",
    "nis3 = gpd.GeoDataFrame(nodeIsochroneSummarydf['LTS3'], geometry=gs, crs='wgs84')\n",
    "nis4 = gpd.GeoDataFrame(nodeIsochroneSummarydf['LTS4'], geometry=gs, crs='wgs84')\n",
    "\n",
    "nodeIsochroneSummaryGDF"
   ]
  },
  {
   "cell_type": "code",
   "execution_count": null,
   "metadata": {},
   "outputs": [],
   "source": [
    " # Initialize plot\n",
    "plt.figure(figsize=(15,9))\n",
    "ax = plt.axes(projection=ccrs.PlateCarree())\n",
    "\n",
    " # Plot input points\n",
    "gdf_proj = gdf_nodes.to_crs(ccrs.Robinson().proj4_init)\n",
    "ax.scatter([p.x for p in gdf_proj['geometry']],\n",
    "            [p.y for p in gdf_proj['geometry']],\n",
    "            transform=ccrs.Robinson(),\n",
    "            marker='.', s=1, alpha=0.2)\n",
    "\n",
    "ax.scatter([p.x for p in valid_points],\n",
    "            [p.y for p in valid_points],\n",
    "          #   transform=ccrs.Robinson(),\n",
    "            marker='x', s=10, c='k')\n",
    "\n",
    "m = 3000\n",
    "\n",
    "s4 = m * (nodeIsochroneSummarydf['LTS4'] / nodeIsochroneSummarydf['LTS4'].max())\n",
    "ax.scatter([p.x for p in nodeIsochroneSummarydf['point_node']],\n",
    "            [p.y for p in nodeIsochroneSummarydf['point_node']],\n",
    "          #   transform=ccrs.Robinson(),\n",
    "            marker='.', s=s4, c='grey', alpha=0.5)\n",
    "\n",
    "s3 = m * (nodeIsochroneSummarydf['LTS3'] / nodeIsochroneSummarydf['LTS4'].max())\n",
    "ax.scatter([p.x for p in nodeIsochroneSummarydf['point_node']],\n",
    "            [p.y for p in nodeIsochroneSummarydf['point_node']],\n",
    "          #   transform=ccrs.Robinson(),\n",
    "            marker='.', s=s3, c='r', alpha=0.5)\n",
    "\n",
    "s2 = m * (nodeIsochroneSummarydf['LTS2'] / nodeIsochroneSummarydf['LTS4'].max())\n",
    "ax.scatter([p.x for p in nodeIsochroneSummarydf['point_node']],\n",
    "            [p.y for p in nodeIsochroneSummarydf['point_node']],\n",
    "          #   transform=ccrs.Robinson(),\n",
    "            marker='.', s=s2, c='g', alpha=0.5)\n",
    "\n",
    " # Plot alpha shape\n",
    "# ax.add_geometries(\n",
    "#      alpha_shape.to_crs(ccrs.Robinson().proj4_init)['geometry'],\n",
    "#      crs=ccrs.Robinson(), alpha=.2)\n",
    "\n",
    "plt.show()"
   ]
  },
  {
   "cell_type": "code",
   "execution_count": null,
   "metadata": {},
   "outputs": [],
   "source": [
    "lts = all_lts[all_lts['lts'] > 0]\n",
    "\n",
    "layer_lts = lonboard.PathLayer.from_geopandas(\n",
    "    gdf=lts[[\"geometry\", \"lts\", \"name\"]], \n",
    "    width_scale=2\n",
    ")\n",
    "layer_lts.get_color = apply_categorical_cmap(\n",
    "    values=lts[\"lts\"],\n",
    "    cmap={\n",
    "        0: [0, 0, 0],  # black\n",
    "        1: [0, 128, 0],  # green\n",
    "        2: [0, 191, 255],  # blue\n",
    "        3: [255, 165, 0],  # orange\n",
    "        4: [255, 0, 0],  # red\n",
    "    },\n",
    ")\n",
    "\n",
    "r = 100\n",
    "norm = nodeIsochroneSummarydf['LTS4'].max()\n",
    "\n",
    "layer_iso2 = lonboard.ScatterplotLayer.from_geopandas(\n",
    "    nis2,\n",
    "    get_fill_color=[0, 0, 255],\n",
    "    get_radius = r * np.sqrt(nis2['LTS2'] / norm),\n",
    "    opacity=0.2,\n",
    ")\n",
    "\n",
    "layer_iso3 = lonboard.ScatterplotLayer.from_geopandas(\n",
    "    nis3,\n",
    "    get_fill_color=[255, 0, 0],\n",
    "    get_radius = r * np.sqrt(nis3['LTS3'] / norm),\n",
    "    opacity=0.2,\n",
    ")\n",
    "\n",
    "layer_iso4 = lonboard.ScatterplotLayer.from_geopandas(\n",
    "    nis4,\n",
    "    get_fill_color=[150, 150, 150],\n",
    "    get_radius = r * np.sqrt(nis4['LTS4'] / norm),\n",
    "    opacity=0.2,\n",
    ")\n",
    "\n",
    "\n",
    "map = lonboard.Map(layers=[layer_lts, layer_iso4, layer_iso3, layer_iso2],\n",
    "            #  basemap_style=lonboard.basemap.CartoBasemap.Positron,\n",
    "                basemap_style=lonboard.basemap.CartoBasemap.DarkMatter,\n",
    "                _height=700,\n",
    "                )\n",
    "map"
   ]
  },
  {
   "cell_type": "code",
   "execution_count": null,
   "metadata": {},
   "outputs": [],
   "source": []
  }
 ],
 "metadata": {
  "kernelspec": {
   "display_name": ".venv",
   "language": "python",
   "name": "python3"
  },
  "language_info": {
   "codemirror_mode": {
    "name": "ipython",
    "version": 3
   },
   "file_extension": ".py",
   "mimetype": "text/x-python",
   "name": "python",
   "nbconvert_exporter": "python",
   "pygments_lexer": "ipython3",
   "version": "3.10.2"
  }
 },
 "nbformat": 4,
 "nbformat_minor": 2
}
