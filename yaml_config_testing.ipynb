{
 "cells": [
  {
   "cell_type": "code",
   "execution_count": 1,
   "metadata": {},
   "outputs": [],
   "source": [
    "# Imports\n",
    "%load_ext autoreload\n",
    "%autoreload 2\n",
    "\n",
    "import re\n",
    "import yaml\n",
    "import numpy as np\n",
    "import pandas as pd\n",
    "\n",
    "import lts_functions as lts\n",
    "import LTS_OSM\n",
    "\n",
    "# Using jupyter notebooks with a virtual environment\n",
    "# https://anbasile.github.io/posts/2017-06-25-jupyter-venv/\n",
    "# https://stackoverflow.com/questions/58119823/jupyter-notebooks-in-visual-studio-code-does-not-use-the-active-virtual-environm\n",
    "# ipython kernel install --user --name=.venv"
   ]
  },
  {
   "cell_type": "code",
   "execution_count": 2,
   "metadata": {},
   "outputs": [],
   "source": [
    "# Settings\n",
    "region = 'Cambridge'\n",
    "unit = 'english'\n",
    "tables = yaml.safe_load('config/tables.yml')\n",
    "\n",
    "def read_yaml():\n",
    "    with open('config/rating_dict.yml', 'r') as yml_file:\n",
    "        rating_dict = yaml.safe_load(yml_file)\n",
    "    return rating_dict\n",
    "\n",
    "rating_dict = read_yaml()"
   ]
  },
  {
   "cell_type": "code",
   "execution_count": 3,
   "metadata": {},
   "outputs": [
    {
     "name": "stdout",
     "output_type": "stream",
     "text": [
      "Loading saved graph for Cambridge\n",
      "gdf_edges.shape=(105548, 193)\n",
      "gdf_nodes.shape=(48501, 6)\n"
     ]
    }
   ],
   "source": [
    "# Load Data\n",
    "gdfNodes, gdfEdges = LTS_OSM.download_data(region)"
   ]
  },
  {
   "cell_type": "code",
   "execution_count": 12,
   "metadata": {},
   "outputs": [],
   "source": [
    "def biking_permitted(gdf_edges, rating_dict):\n",
    "    prefix = 'p'\n",
    "    bikingPermittedRules = {k:v for (k,v) in rating_dict.items() if prefix in k}\n",
    "    # defaultRule = f'{prefix}0'\n",
    "\n",
    "    gdf_edges['biking_permitted'] = 'yes'\n",
    "    gdf_edges['biking_permitted_rule'] = 'Assume biking permitted'\n",
    "    gdf_edges['biking_permitted_condition'] = 'default'\n",
    "    \n",
    "    for _, value in bikingPermittedRules.items():\n",
    "        # FIXME need to handle single sided tags so that can include both sides in outputs\n",
    "        gdf_filter = gdf_edges.eval(value['condition'])\n",
    "        gdf_edges.loc[gdf_filter, 'biking_permitted'] = value['biking_permitted']\n",
    "        gdf_edges.loc[gdf_filter, 'biking_permitted_rule'] = value['rule_message']\n",
    "        gdf_edges.loc[gdf_filter, 'biking_permitted_condition'] = value['condition']\n",
    "        gdf_edges.loc[gdf_filter, 'LTS'] = value['LTS']\n",
    "\n",
    "    # Save memory by setting as category, need to set categories first\n",
    "    for col in ['biking_permitted', 'biking_permitted_rule', 'biking_permitted_condition']:\n",
    "        gdf_edges[col] = gdf_edges[col].astype('category')\n",
    "\n",
    "    return gdf_edges\n",
    "\n",
    "rating_dict = read_yaml()\n",
    "gdf_biking_permitted = biking_permitted(gdfEdges.copy(), rating_dict)"
   ]
  },
  {
   "cell_type": "code",
   "execution_count": 46,
   "metadata": {},
   "outputs": [
    {
     "name": "stdout",
     "output_type": "stream",
     "text": [
      "check_date:cycleway [nan '2022-02-18' '2021-09-25' '2023-06-09']\n",
      "cycleway [nan 'shared_lane' 'no' 'lane' 'separate' 'crossing' 'shared' 'track'\n",
      " 'construction']\n",
      "cycleway:both [nan 'no' 'shared_lane' 'separate' 'lane' 'share_busway']\n",
      "cycleway:both:buffer [nan 'no' 'yes']\n",
      "cycleway:both:lane [nan 'pictogram' 'exclusive' 'advisory']\n",
      "cycleway:buffer [nan \"2'\" 'no']\n",
      "cycleway:lanes:backward [nan 'none|none|lane']\n",
      "cycleway:left [nan 'shared_lane' 'no' 'separate' 'track' 'lane' 'share_busway']\n",
      "cycleway:left:buffer [nan 'yes']\n",
      "cycleway:left:lane [nan 'exclusive' 'pictogram']\n",
      "cycleway:left:oneway [nan '-1' 'no']\n",
      "cycleway:left:separation [nan 'buffer' 'flex_post']\n",
      "cycleway:right [nan 'lane' 'separate' 'no' 'track' 'shared_lane' 'shoulder'\n",
      " 'share_busway' 'buffered_lane']\n",
      "cycleway:right:buffer [nan 'yes']\n",
      "cycleway:right:lane [nan 'exclusive' 'pictogram' 'advisory']\n",
      "cycleway:right:oneway [nan 'no']\n",
      "cycleway:right:separation [nan 'flex_post']\n",
      "cycleway:surface [nan 'asphalt']\n",
      "cycleway:width [nan \"5'\" '6\\'0\"' '3\\'0\"']\n"
     ]
    }
   ],
   "source": [
    "# get the columns that start with 'cycleway'\n",
    "cycleway_tags = gdfEdges.columns[gdfEdges.columns.str.contains('cycleway')]\n",
    "# print(cycleway_tags)\n",
    "\n",
    "for tag in cycleway_tags.sort_values():\n",
    "    print(tag, gdfEdges[tag].unique())"
   ]
  },
  {
   "cell_type": "code",
   "execution_count": 51,
   "metadata": {},
   "outputs": [],
   "source": [
    "def is_separated_path(gdf_edges, rating_dict):   \n",
    "    prefix = 's'\n",
    "    separatedPathRules = {k:v for (k,v) in rating_dict.items() if prefix in k}\n",
    "    defaultRule = f'{prefix}0'\n",
    "\n",
    "    gdf_edges['bike_lane_separation'] = 'no'\n",
    "    gdf_edges['bike_lane_separation_rule_num'] = defaultRule\n",
    "    gdf_edges['bike_lane_separation_rule'] = 'Assume no bike lane separation'\n",
    "    gdf_edges['bike_lane_separation_condition'] = 'default'\n",
    "\n",
    "    # get the columns that start with 'cycleway'\n",
    "    # tags = gdf_edges.columns[gdf_edges.columns.str.contains('cycleway')]\n",
    "    # for tag in tags:\n",
    "    #     print(tag, gdfEdges[tag].unique())\n",
    "\n",
    "    for key, value in separatedPathRules.items():\n",
    "        # Check rules in order, once something has been updated, leave it be\n",
    "        # FIXME need to handle single sided tags so that can include both sides in outputs\n",
    "        gdf_filter = gdf_edges.eval(f\"{value['condition']} & (`bike_lane_separation_condition` == 'default')\")\n",
    "        gdf_edges.loc[gdf_filter, 'bike_lane_separation'] = value['bike_lane_separation']\n",
    "        gdf_edges.loc[gdf_filter, 'bike_lane_separation_rule'] = value['rule_message']\n",
    "        gdf_edges.loc[gdf_filter, 'bike_lane_separation_rule_num'] = key\n",
    "        gdf_edges.loc[gdf_filter, 'bike_lane_separation_condition'] = value['condition']\n",
    "        gdf_edges.loc[gdf_filter, 'LTS'] = value['LTS']\n",
    "\n",
    "    # Save memory by setting as category, need to set categories first\n",
    "    for col in ['bike_lane_separation', 'bike_lane_separation_rule', \n",
    "                'bike_lane_separation_condition', 'bike_lane_separation_rule_num']:\n",
    "        gdf_edges[col] = gdf_edges[col].astype('category')\n",
    "\n",
    "    return gdf_edges\n",
    "\n",
    "rating_dict = read_yaml()\n",
    "gdf_separated_edges = is_separated_path(gdf_biking_permitted.copy(), rating_dict)\n",
    "\n",
    "rules_used = gdf_separated_edges['bike_lane_separation_rule_num'].unique().tolist()\n",
    "rules_used = [int(s[7:]) for s in rules_used]\n",
    "rules_used.sort()\n",
    "print(rules_used)"
   ]
  },
  {
   "cell_type": "code",
   "execution_count": 48,
   "metadata": {},
   "outputs": [
    {
     "name": "stdout",
     "output_type": "stream",
     "text": [
      "check_date:cycleway [nan '2022-02-18' '2021-09-25' '2023-06-09']\n",
      "cycleway [nan 'shared_lane' 'no' 'lane' 'separate' 'crossing' 'shared' 'track'\n",
      " 'construction']\n",
      "cycleway:both [nan 'no' 'shared_lane' 'separate' 'lane' 'share_busway']\n",
      "cycleway:both:buffer [nan 'no' 'yes']\n",
      "cycleway:both:lane [nan 'pictogram' 'exclusive' 'advisory']\n",
      "cycleway:buffer [nan \"2'\" 'no']\n",
      "cycleway:lanes:backward [nan 'none|none|lane']\n",
      "cycleway:left [nan 'shared_lane' 'no' 'separate' 'track' 'lane' 'share_busway']\n",
      "cycleway:left:buffer [nan 'yes']\n",
      "cycleway:left:lane [nan 'exclusive' 'pictogram']\n",
      "cycleway:left:oneway [nan '-1' 'no']\n",
      "cycleway:left:separation [nan 'buffer' 'flex_post']\n",
      "cycleway:right [nan 'lane' 'separate' 'no' 'track' 'shared_lane' 'shoulder'\n",
      " 'share_busway' 'buffered_lane']\n",
      "cycleway:right:buffer [nan 'yes']\n",
      "cycleway:right:lane [nan 'exclusive' 'pictogram' 'advisory']\n",
      "cycleway:right:oneway [nan 'no']\n",
      "cycleway:right:separation [nan 'flex_post']\n",
      "cycleway:surface [nan 'asphalt']\n",
      "cycleway:width [nan \"5'\" '6\\'0\"' '3\\'0\"']\n"
     ]
    }
   ],
   "source": [
    "# get the columns that start with 'cycleway'\n",
    "cycleway_tags = gdfEdges.columns[gdfEdges.columns.str.contains('cycleway')]\n",
    "# print(cycleway_tags)\n",
    "\n",
    "for tag in cycleway_tags.sort_values():\n",
    "    print(tag, gdfEdges[tag].unique())\n",
    "\n",
    "# print('shoulder:access:bicycle', gdfEdges['shoulder:access:bicycle'].unique())"
   ]
  },
  {
   "cell_type": "code",
   "execution_count": 55,
   "metadata": {},
   "outputs": [],
   "source": [
    "def is_bike_lane(gdf_edges):\n",
    "    \"\"\"\n",
    "    Check if there's a bike lane, use road features to assign LTS\n",
    "    \"\"\"\n",
    "    prefix = 'a'\n",
    "    bikeLaneRules = {k:v for (k,v) in rating_dict.items() if prefix in k}\n",
    "    defaultRule = f'{prefix}0'\n",
    "\n",
    "    gdf_edges['bike_lane'] = 'no'\n",
    "    gdf_edges['bike_lane_rule_num'] = defaultRule\n",
    "    gdf_edges['bike_lane_rule'] = 'Assume no bike lane'\n",
    "    gdf_edges['bike_lane_condition'] = 'default'\n",
    "\n",
    "    # get the columns that start with 'cycleway'\n",
    "    # tags = gdf_edges.columns[gdf_edges.columns.str.contains('cycleway')]\n",
    "    # for tag in tags:\n",
    "    #     print(tag, gdfEdges[tag].unique())\n",
    "\n",
    "    for key, value in bikeLaneRules.items():\n",
    "        # Check rules in order, once something has been updated, leave it be\n",
    "        # FIXME need to handle single sided tags so that can include both sides in outputs\n",
    "        gdf_filter = gdf_edges.eval(f\"{value['condition']} & (`bike_lane_condition` == 'default')\")\n",
    "        gdf_edges.loc[gdf_filter, 'bike_lane'] = value['bike_lane']\n",
    "        gdf_edges.loc[gdf_filter, 'bike_lane_rule'] = value['rule_message']\n",
    "        gdf_edges.loc[gdf_filter, 'bike_lane_rule_num'] = key\n",
    "        gdf_edges.loc[gdf_filter, 'bike_lane_condition'] = value['condition']\n",
    "\n",
    "    # Save memory by setting as category, need to set categories first\n",
    "    for col in ['bike_lane', 'bike_lane_rule', \n",
    "                'bike_lane_condition', 'bike_lane_rule_num']:\n",
    "        gdf_edges[col] = gdf_edges[col].astype('category')\n",
    "\n",
    "    return gdf_edges\n",
    "\n",
    "rating_dict = read_yaml()\n",
    "gdf_bike_lanes = is_bike_lane(gdf_separated_edges.copy())\n",
    "\n",
    "rules_used = gdf_bike_lanes['bike_lane_rule_num'].unique().tolist()\n",
    "rules_used = [int(s[7:]) for s in rules_used]\n",
    "rules_used.sort()\n",
    "print(rules_used)\n"
   ]
  },
  {
   "cell_type": "code",
   "execution_count": 56,
   "metadata": {},
   "outputs": [
    {
     "name": "stdout",
     "output_type": "stream",
     "text": [
      "parking:both [nan 'no' 'lane' 'separate' 'street_side']\n",
      "parking:both:orientation [nan 'parallel']\n",
      "parking:condition:both [nan 'no_parking' 'no_stopping' 'ticket;residents']\n",
      "parking:condition:left [nan 'no_parking' 'residents' 'ticket;residents']\n",
      "parking:condition:right [nan 'no_parking' 'residents']\n",
      "parking:lane:both [nan 'parallel' 'no_stopping' 'no']\n",
      "parking:lane:both:parallel [nan 'on_street']\n",
      "parking:lane:left [nan 'parallel' 'no_stopping' 'no']\n",
      "parking:lane:left:parallel [nan 'on_street']\n",
      "parking:lane:right [nan 'no_stopping' 'parallel' 'no']\n",
      "parking:lane:right:parallel [nan 'on_street' 'painted_area_only']\n",
      "parking:left [nan 'no' 'lane' 'separate' 'street_side']\n",
      "parking:left:orientation [nan 'parallel']\n",
      "parking:left:restriction [nan 'no_stopping']\n",
      "parking:right [nan 'lane' 'no' 'separate' 'street_side']\n",
      "parking:right:access [nan 'permit']\n",
      "parking:right:fee [nan 'yes']\n",
      "parking:right:orientation [nan 'parallel']\n"
     ]
    }
   ],
   "source": [
    "tags = gdfEdges.columns[gdfEdges.columns.str.contains('parking')]\n",
    "for tag in tags.sort_values():\n",
    "    print(tag, gdfEdges[tag].unique())"
   ]
  },
  {
   "cell_type": "code",
   "execution_count": 81,
   "metadata": {},
   "outputs": [
    {
     "name": "stdout",
     "output_type": "stream",
     "text": [
      "[0, 1, 2, 3, 4, 6, 7, 8, 9, 10, 21, 22, 23, 24, 26, 28, 29, 30, 41, 42, 44, 50]\n"
     ]
    }
   ],
   "source": [
    "def parking_present(gdf_edges):\n",
    "    \"\"\"\n",
    "    Detect where parking is and isn't allowed.\n",
    "    \"\"\"\n",
    "    # tags = gdfEdges.columns[gdfEdges.columns.str.contains('parking')]\n",
    "    # for tag in tags.sort_values():\n",
    "    #     print(tag, gdfEdges[tag].unique())\n",
    "\n",
    "    prefix = 'parking'\n",
    "    parkingRules = {k:v for (k,v) in rating_dict.items() if prefix in k}\n",
    "    defaultRule = f'{prefix}0'\n",
    "\n",
    "    gdf_edges['parking'] = 'yes'\n",
    "    gdf_edges['parking_rule_num'] = defaultRule\n",
    "    gdf_edges['parking_rule'] = 'Assume street parking is allowed on both sides'\n",
    "    gdf_edges['parking_condition'] = 'default'\n",
    "\n",
    "    for key, value in parkingRules.items():\n",
    "        # Check rules in order, once something has been updated, leave it be\n",
    "        # FIXME need to handle single sided tags so that can include both sides in outputs\n",
    "        gdf_filter = gdf_edges.eval(f\"{value['condition']} & (`parking_condition` == 'default')\")\n",
    "        gdf_edges.loc[gdf_filter, 'parking'] = value['parking']\n",
    "        gdf_edges.loc[gdf_filter, 'parking_rule_num'] = key\n",
    "        gdf_edges.loc[gdf_filter, 'parking_rule'] = value['rule_message']\n",
    "        gdf_edges.loc[gdf_filter, 'parking_condition'] = value['condition']\n",
    "\n",
    "    # Save memory by setting as category, need to set categories first\n",
    "    for col in ['parking', 'parking_rule_num', \n",
    "                'parking_rule', 'parking_condition']:\n",
    "        gdf_edges[col] = gdf_edges[col].astype('category')\n",
    "\n",
    "    return gdf_edges\n",
    "\n",
    "rating_dict = read_yaml()\n",
    "gdf_parking = parking_present(gdf_bike_lanes.copy())\n",
    "\n",
    "rules_used = gdf_parking['parking_rule_num'].unique().tolist()\n",
    "rules_used = [int(s[7:]) for s in rules_used]\n",
    "rules_used.sort()\n",
    "print(rules_used)"
   ]
  },
  {
   "cell_type": "code",
   "execution_count": 80,
   "metadata": {},
   "outputs": [
    {
     "name": "stdout",
     "output_type": "stream",
     "text": [
      "maxspeed [nan '25 mph' '30 mph' '20 mph' '15 mph' '35 mph' '25' '40 mph' '20'\n",
      " '55 mph' '10 mph' '5 mph']\n",
      "maxspeed:advisory [nan '5 mph']\n",
      "maxspeed:type [nan 'US:urban' 'sign']\n",
      "source:maxspeed [nan 'massgis']\n",
      "\n",
      "---\n",
      "\n",
      "area:highway [nan 'traffic_island' 'yes']\n",
      "construction:highway [nan 'cycleway']\n",
      "highway ['footway' 'residential' 'secondary' 'unclassified' 'trunk' 'service'\n",
      " 'tertiary' 'primary' 'primary_link' 'cycleway' 'path' 'pedestrian'\n",
      " 'trunk_link' 'tertiary_link' 'secondary_link' 'construction'\n",
      " 'living_street' 'busway' 'track']\n",
      "note:highway [nan 'busway']\n"
     ]
    }
   ],
   "source": [
    "tags = gdfEdges.columns[gdfEdges.columns.str.contains('speed')]\n",
    "for tag in tags.sort_values():\n",
    "    print(tag, gdfEdges[tag].unique())\n",
    "\n",
    "print('\\n---\\n')\n",
    "tags = gdfEdges.columns[gdfEdges.columns.str.contains('highway')]\n",
    "for tag in tags.sort_values():\n",
    "    print(tag, gdfEdges[tag].unique())"
   ]
  },
  {
   "cell_type": "code",
   "execution_count": 109,
   "metadata": {},
   "outputs": [
    {
     "name": "stdout",
     "output_type": "stream",
     "text": [
      "['25 mph' '35 mph' nan '25' '20 mph' '40 mph' '30 mph']\n"
     ]
    }
   ],
   "source": [
    "print(gdfEdges[gdfEdges['highway'] == 'primary']['maxspeed'].unique())"
   ]
  },
  {
   "cell_type": "code",
   "execution_count": 124,
   "metadata": {},
   "outputs": [
    {
     "name": "stdout",
     "output_type": "stream",
     "text": [
      "[0, 1, 2, 3, 4, 5, 6, 7, 8, 9, 10, 11, 12]\n",
      "[25 30 20 35 40 50 15  0 55 10  5]\n"
     ]
    }
   ],
   "source": [
    "def get_prevailing_speed(gdf_edges):\n",
    "    \"\"\"\n",
    "    Get the speed limit for ways\n",
    "    If not available, make assumptions based on road type\n",
    "    This errs on the high end of assumptions\n",
    "    \"\"\"\n",
    "    prefix = 'speed'\n",
    "    speedRules = {k:v for (k,v) in rating_dict.items() if prefix in k}\n",
    "    defaultRule = f'{prefix}0'\n",
    "\n",
    "    gdf_edges['speed'] = gdf_edges['maxspeed'] \n",
    "    gdf_edges['speed'] = gdf_edges['speed'].fillna(0)\n",
    "    gdf_edges['speed_rule_num'] = defaultRule\n",
    "    gdf_edges['speed_rule'] = 'Use signed speed limits.'\n",
    "    gdf_edges['speed_condition'] = 'default'\n",
    "\n",
    "    for key, value in speedRules.items():\n",
    "        # Check rules in order, once something has been updated, leave it be\n",
    "        gdf_filter = gdf_edges.eval(f\"{value['condition']} & (`speed` == 0)\")\n",
    "        gdf_edges.loc[gdf_filter, 'speed'] = value['speed']\n",
    "        gdf_edges.loc[gdf_filter, 'speed_rule_num'] = key\n",
    "        gdf_edges.loc[gdf_filter, 'speed_rule'] = value['rule_message']\n",
    "        gdf_edges.loc[gdf_filter, 'speed_condition'] = value['condition']\n",
    "\n",
    "    # If mph\n",
    "    if gdf_edges[gdf_edges['speed'].astype(str).str.contains('mph')].shape[0] > 0:\n",
    "        mph = gdf_edges['speed'].astype(str).str.contains('mph', na=False)\n",
    "        gdf_edges.loc[mph, 'speed'] = gdf_edges['speed'][mph].str.split(\n",
    "            ' ', expand=True)[0].apply(lambda x: np.array(x, dtype = 'int'))\n",
    "\n",
    "    # # if multiple speed values present, use the largest one\n",
    "    # gdf_edges['maxspeed_assumed'] = gdf_edges['maxspeed_assumed'].apply(\n",
    "    #     lambda x: np.array(x, dtype = 'int')).apply(lambda x: np.max(x))\n",
    "\n",
    "    # Make sure all speeds are numbers\n",
    "    gdf_edges['speed'] = gdf_edges['speed'].astype(int)\n",
    "    # Save memory by setting as category, need to set categories first\n",
    "    for col in ['speed_rule_num', 'speed_rule', 'speed_condition']:\n",
    "        gdf_edges[col] = gdf_edges[col].astype('category')\n",
    "\n",
    "    return gdf_edges\n",
    "\n",
    "rating_dict = read_yaml()\n",
    "gdf_speed = get_prevailing_speed(gdf_parking.copy())\n",
    "\n",
    "rules_used = gdf_speed['speed_rule_num'].unique().tolist()\n",
    "rules_used = [int(s[5:]) for s in rules_used]\n",
    "rules_used.sort()\n",
    "print(rules_used)\n",
    "\n",
    "print(gdf_speed['speed'].unique())"
   ]
  },
  {
   "cell_type": "code",
   "execution_count": 125,
   "metadata": {},
   "outputs": [
    {
     "name": "stdout",
     "output_type": "stream",
     "text": [
      "[nan '2' '1' '3' '4' '5' '7']\n"
     ]
    }
   ],
   "source": [
    "print(gdfEdges['lanes'].unique())"
   ]
  },
  {
   "cell_type": "code",
   "execution_count": 132,
   "metadata": {},
   "outputs": [],
   "source": [
    "def get_lanes(gdf_edges, default_lanes = 2):\n",
    "\n",
    "    # make new assumed lanes column for use in calculations\n",
    "\n",
    "    # fill na with default lanes\n",
    "    # if multiple lane values present, use the largest one\n",
    "    # this usually happens if multiple adjacent ways are included in the edge and \n",
    "    # there's a turning lane\n",
    "    gdf_edges['lane_count'] = gdf_edges['lanes'].fillna(default_lanes).apply(\n",
    "        lambda x: np.array(re.split(r'; |, |\\*|\\n', str(x)), dtype = 'int')).apply( \n",
    "            # Converted to a raw string to avoid 'SyntaxWarning: invalid escape sequence '\\*' python re',\n",
    "            # check that this is doing the right thing\n",
    "            lambda x: np.max(x))\n",
    "    \n",
    "    gdf_edges['lane_source'] = 'OSM'\n",
    "    assumed = gdf_edges['lanes'] == np.nan\n",
    "    gdf_edges.loc[assumed, 'lane_source'] = 'Assumed lane count'\n",
    "\n",
    "    return gdf_edges\n",
    "\n",
    "rating_dict = read_yaml()\n",
    "gdf_lanes = get_lanes(gdf_speed.copy())"
   ]
  },
  {
   "cell_type": "code",
   "execution_count": 133,
   "metadata": {},
   "outputs": [
    {
     "name": "stdout",
     "output_type": "stream",
     "text": [
      "[2 1 3 4 5 7]\n"
     ]
    }
   ],
   "source": [
    "print(gdf_lanes['lane_count'].unique())"
   ]
  },
  {
   "cell_type": "code",
   "execution_count": 137,
   "metadata": {},
   "outputs": [
    {
     "name": "stdout",
     "output_type": "stream",
     "text": [
      "lane_markings [nan 'no' 'yes']\n"
     ]
    }
   ],
   "source": [
    "tags = gdfEdges.columns[gdfEdges.columns.str.contains('lane_markings')]\n",
    "for tag in tags.sort_values():\n",
    "    print(tag, gdfEdges[tag].unique())"
   ]
  },
  {
   "cell_type": "code",
   "execution_count": 140,
   "metadata": {},
   "outputs": [
    {
     "name": "stdout",
     "output_type": "stream",
     "text": [
      "[0, 1, 2, 3, 4, 5, 6, 7, 8, 9, 10, 11, 12, 13]\n"
     ]
    }
   ],
   "source": [
    "# This is new.\n",
    "# The newer LTS rating takes into account whether there is a centerline striped or not.\n",
    "def get_centerlines(gdf_edges):\n",
    "\n",
    "    prefix = 'center'\n",
    "    parkingRules = {k:v for (k,v) in rating_dict.items() if prefix in k}\n",
    "    defaultRule = f'{prefix}0'\n",
    "\n",
    "    gdf_edges['centerline'] = 'yes'\n",
    "    gdf_edges['centerline_rule_num'] = defaultRule\n",
    "    gdf_edges['centerline_rule'] = 'Assume centerlines.'\n",
    "    gdf_edges['centerline_condition'] = 'default'\n",
    "\n",
    "    for key, value in parkingRules.items():\n",
    "        # Check rules in order, once something has been updated, leave it be\n",
    "        gdf_filter = gdf_edges.eval(f\"{value['condition']} & (`centerline_condition` == 'default')\")\n",
    "        gdf_edges.loc[gdf_filter, 'centerline'] = value['centerline']\n",
    "        gdf_edges.loc[gdf_filter, 'centerline_rule_num'] = key\n",
    "        gdf_edges.loc[gdf_filter, 'centerline_rule'] = value['rule_message']\n",
    "        gdf_edges.loc[gdf_filter, 'centerline_condition'] = value['condition']\n",
    "\n",
    "    # Save memory by setting as category, need to set categories first\n",
    "    for col in ['centerline', 'centerline_rule_num', \n",
    "                'centerline_rule', 'centerline_condition']:\n",
    "        gdf_edges[col] = gdf_edges[col].astype('category')\n",
    "\n",
    "    return gdf_edges\n",
    "\n",
    "rating_dict = read_yaml()\n",
    "gdf_centerlines = get_centerlines(gdf_lanes.copy())\n",
    "\n",
    "rules_used = gdf_centerlines['centerline_rule_num'].unique().tolist()\n",
    "rules_used = [int(s[6:]) for s in rules_used]\n",
    "rules_used.sort()\n",
    "print(rules_used)"
   ]
  },
  {
   "cell_type": "code",
   "execution_count": 141,
   "metadata": {},
   "outputs": [
    {
     "name": "stdout",
     "output_type": "stream",
     "text": [
      "cycleway:width [nan \"5'\" '6\\'0\"' '3\\'0\"']\n",
      "source:width [nan 'ARCore']\n",
      "width [nan '7.6' '9.5' '15.2' '21.3' '14.9' '12.2' '11.6' '19.2' '30.5' '18.9'\n",
      " '20.7' '11.0' '7.3' '15.9' '9.1' '17\\'0\"' '11.9' '20\\'0\"' '17.1' '24.4'\n",
      " '14.0' '18.3' '24\\'0\"' '30.2' '14.6' '15.2;18.6' '13.4' '25.9' '6.7'\n",
      " '28.0' '36.6' '16.8' '7' '3.7' '19.8' '10.4;12.2' '11.7' '4.3' '4.6'\n",
      " '8.5' '12.8' '10.4' '15.5' '13.7' '6.1' '25.6' '9.8' '4.9' '26.8' '3.0'\n",
      " '11.3' '5.5' '10.7' '7.9' '5.8' '8.2' '10.1' '28\\'0\"' '20.1' '18.6' '6.4'\n",
      " '5.2' '16.5' '14.3' '17.7' '19.5' '38.1' '8.8' '22.9' '30\\'0\"' '16.2'\n",
      " '4.7' '16.8;15.2' '2' '12.5' '46\\'0\"' '50\\'0\"' '16.1' '27\\'0\"' '91.5'\n",
      " '18.0' '22.0' '11.6;10.4' '5' '27.4' '8\\'0\"' '3.3' '3' '3.5' '8\\'8\"'\n",
      " '5\\'0\"' '6' '21\\'0\"' '4' \"10'\" '1' '2.7' '1.5' '9\\'0\"' '8' '10\\'0\"'\n",
      " '12\\'0\"' '1.4' \"8'\" '7.0' '1.8' '6\\'0\"' '16\\'0\"']\n",
      "width:carriageway [nan '9' '8']\n",
      "width:lanes [nan '3|3']\n"
     ]
    }
   ],
   "source": [
    "tags = gdfEdges.columns[gdfEdges.columns.str.contains('width')]\n",
    "for tag in tags.sort_values():\n",
    "    print(tag, gdfEdges[tag].unique())"
   ]
  },
  {
   "cell_type": "code",
   "execution_count": 171,
   "metadata": {},
   "outputs": [],
   "source": [
    "def convert_feet_with_quotes(series):\n",
    "    series = series.copy()\n",
    "    # Calculate decimal feet and inches when each given separately\n",
    "    quoteValues = series.str.contains('\\'')\n",
    "    meterValues = quoteValues == False\n",
    "\n",
    "    quoteValues[quoteValues.isna()] = False\n",
    "    quoteValues = quoteValues.astype(bool)\n",
    "\n",
    "    feetinch = series[quoteValues].str.strip('\"').str.split('\\'', expand=True)\n",
    "    feetinch.loc[feetinch[1] == '', 1] = 0\n",
    "    feetinch = feetinch.apply(lambda x: np.array(x, dtype = 'int'))\n",
    "    if feetinch.shape[0] > 0:\n",
    "        feet = feetinch[0] + feetinch[1] / 12\n",
    "        series[quoteValues] = feet\n",
    "\n",
    "    # Use larger value if given multiple\n",
    "    multiWidth = series.str.contains(';', na=False) \n",
    "\n",
    "    maxWidth = series[multiWidth].str.split(';', expand=True).max(axis=1)\n",
    "    series[multiWidth] = maxWidth\n",
    "\n",
    "    series = series.apply(lambda x: np.array(x, dtype = 'float'))\n",
    "\n",
    "    # Convert (assumed) meter values to feet\n",
    "    series[meterValues] = series[meterValues].astype(float) * 3.28084\n",
    "\n",
    "    series_notes = pd.Series('No Width', index=series.index)\n",
    "    series_notes[quoteValues] = 'Converted ft-in to decimal feet'\n",
    "    series_notes[meterValues] = 'Converted m to feet'\n",
    "\n",
    "    return series, series_notes\n",
    "\n",
    "def width_ft(gdf_edges):\n",
    "    '''\n",
    "    Convert OSM width columns to use decimal feet\n",
    "    '''\n",
    "    # print('width_ft')\n",
    "    gdf_edges['width_ft'], gdf_edges['width_ft_notes'] = convert_feet_with_quotes(gdf_edges['width'])\n",
    "    # print('cycleway:width_ft')\n",
    "    gdf_edges['cycleway:width_ft'], gdf_edges['cycleway:width_ft_notes'] = convert_feet_with_quotes(gdf_edges['cycleway:width'])\n",
    "\n",
    "    return gdf_edges\n",
    "\n",
    "gdf_width_ft = width_ft(gdf_centerlines.copy())"
   ]
  },
  {
   "cell_type": "code",
   "execution_count": 172,
   "metadata": {},
   "outputs": [
    {
     "name": "stdout",
     "output_type": "stream",
     "text": [
      "[         nan  24.934384    31.16798     49.868768    69.881892\n",
      "  48.884516    40.026248    38.057744    62.992128   100.06562\n",
      "  62.007876    67.913388    36.08924     23.950132    52.165356\n",
      "  29.855644    17.          39.041996    20.          56.102364\n",
      "  80.052496    45.93176     60.039372    24.          99.081368\n",
      "  47.900264    61.023624    43.963256    84.973756    21.981628\n",
      "  91.86352    120.078744    55.118112    22.96588     12.139108\n",
      "  64.960632    38.385828    14.107612    15.091864    27.88714\n",
      "  41.994752    34.120736    50.85302     44.947508    20.013124\n",
      "  83.989504    32.152232    16.076116    87.926512     9.84252\n",
      "  37.073492    18.04462     35.104988    25.918636    19.028872\n",
      "  26.902888    33.136484    28.          65.944884    20.997376\n",
      "  17.060368    54.13386     46.916012    58.070868    63.97638\n",
      " 125.000004    28.871392    75.131236    30.          53.149608\n",
      "  15.419948     6.56168     41.0105      46.          50.\n",
      "  52.821524    27.         300.19686     59.05512     72.17848\n",
      "  16.4042      89.895016     8.          10.826772    11.48294\n",
      "   8.66666667   5.          19.68504     21.          13.12336\n",
      "  10.           3.28084      8.858268     4.92126      9.\n",
      "  26.24672     12.           4.593176     5.905512     6.\n",
      "  16.        ]\n",
      "[nan  5.  6.  3.]\n"
     ]
    }
   ],
   "source": [
    "print(gdf_width_ft['width_ft'].unique())\n",
    "print(gdf_width_ft['cycleway:width_ft'].unique())"
   ]
  },
  {
   "cell_type": "code",
   "execution_count": 175,
   "metadata": {},
   "outputs": [
    {
     "name": "stdout",
     "output_type": "stream",
     "text": [
      "cycleway:left:oneway [nan '-1' 'no']\n",
      "cycleway:right:oneway [nan 'no']\n",
      "oneway [False  True]\n",
      "oneway:bicycle [nan 'no' 'yes']\n",
      "oneway:conditional [nan '-1 @ (17:00-19:00); ' 'yes @ (07:00-09:00,15:00-19:00)']\n",
      "parking ['yes', 'no', 'left:no', 'left:yes', 'right:no', 'right:yes']\n",
      "Categories (6, object): ['left:no', 'left:yes', 'no', 'right:no', 'right:yes', 'yes']\n",
      "parking:both [nan 'no' 'lane' 'separate' 'street_side']\n",
      "parking:both:orientation [nan 'parallel']\n",
      "parking:condition:both [nan 'no_parking' 'no_stopping' 'ticket;residents']\n",
      "parking:condition:left [nan 'no_parking' 'residents' 'ticket;residents']\n",
      "parking:condition:right [nan 'no_parking' 'residents']\n",
      "parking:lane:both [nan 'parallel' 'no_stopping' 'no']\n",
      "parking:lane:both:parallel [nan 'on_street']\n",
      "parking:lane:left [nan 'parallel' 'no_stopping' 'no']\n",
      "parking:lane:left:parallel [nan 'on_street']\n",
      "parking:lane:right [nan 'no_stopping' 'parallel' 'no']\n",
      "parking:lane:right:parallel [nan 'on_street' 'painted_area_only']\n",
      "parking:left [nan 'no' 'lane' 'separate' 'street_side']\n",
      "parking:left:orientation [nan 'parallel']\n",
      "parking:left:restriction [nan 'no_stopping']\n",
      "parking:right [nan 'lane' 'no' 'separate' 'street_side']\n",
      "parking:right:access [nan 'permit']\n",
      "parking:right:fee [nan 'yes']\n",
      "parking:right:orientation [nan 'parallel']\n",
      "parking_condition ['default', '(`parking:both` == 'no')', '(`parking:left` == 'no')', '(`parking:both` == 'lane')', '(`parking:left` == 'lane')', ..., '(`parking:both` == 'street_side')', '(`parking:condition:both` == 'no_parking')', '(`parking:right` == 'separate')', '(`parking:condition:both` == 'no_stopping')', '(`parking:left` == 'street_side')']\n",
      "Length: 22\n",
      "Categories (22, object): ['(`parking:both` == 'lane')', '(`parking:both` == 'no')', '(`parking:both` == 'separate')', '(`parking:both` == 'street_side')', ..., '(`parking:right` == 'lane')', '(`parking:right` == 'no')', '(`parking:right` == 'separate')', 'default']\n",
      "parking_rule ['Assume street parking is allowed on both sides', 'Parking not allowed on either side.', 'Parking not allowed on the left.', 'Parking allowed on both sides.', 'Parking allowed on the left.', ..., 'Stopping not allowed on the left.', 'Parking allowed on the right.', 'Parallel parking on the right.', 'Parking separately mapped on the left.', 'Parking separately mapped on the right.']\n",
      "Length: 15\n",
      "Categories (15, object): ['Assume street parking is allowed on both sides', 'Parallel parking on both sides.', 'Parallel parking on the left.', 'Parallel parking on the right.', ..., 'Parking separately mapped on the left.', 'Parking separately mapped on the right.', 'Stopping not allowed on either side.', 'Stopping not allowed on the left.']\n",
      "parking_rule_num ['parking0', 'parking1', 'parking21', 'parking2', 'parking22', ..., 'parking3', 'parking6', 'parking44', 'parking7', 'parking23']\n",
      "Length: 22\n",
      "Categories (22, object): ['parking0', 'parking1', 'parking10', 'parking2', ..., 'parking6', 'parking7', 'parking8', 'parking9']\n"
     ]
    }
   ],
   "source": [
    "tags = gdfEdges.columns[gdfEdges.columns.str.contains('one')]\n",
    "for tag in tags.sort_values():\n",
    "    print(tag, gdfEdges[tag].unique())\n",
    "\n",
    "tags = gdf_width_ft.columns[gdf_width_ft.columns.str.contains('parking')]\n",
    "for tag in tags.sort_values():\n",
    "    print(tag, gdf_width_ft[tag].unique())"
   ]
  },
  {
   "cell_type": "code",
   "execution_count": 176,
   "metadata": {},
   "outputs": [],
   "source": [
    "# This is new.\n",
    "# There are some conditions where the wideness of the street affects the rating in the new LTS ratings.\n",
    "def define_narrow_wide(gdf_edges):\n",
    "\n",
    "    gdf_edges['street_narrow_wide'] = 'wide'\n",
    "\n",
    "    gdf_edges[(gdf_edges['oneway'] == 'True') & (gdf_edges['width_ft'] < 30) & (gdf_edges['parking'] == 'yes')] = 'narrow'\n",
    "\n",
    "    gdf_edges[(gdf_edges['oneway'] == 'True') & (gdf_edges['width_ft'] < 22) & (gdf_edges['parking'] == 'left:yes')] = 'narrow'\n",
    "    gdf_edges[(gdf_edges['oneway'] == 'True') & (gdf_edges['width_ft'] < 22) & (gdf_edges['parking'] == 'right:yes')] = 'narrow'\n",
    "\n",
    "    gdf_edges[(gdf_edges['oneway'] == 'True') & (gdf_edges['width_ft'] < 15) & (gdf_edges['parking'] == 'no')] = 'narrow'\n",
    "\n",
    "    return gdf_edges\n",
    "\n",
    "rating_dict = read_yaml()\n",
    "gdf_nw = define_narrow_wide(gdf_width_ft.copy())"
   ]
  },
  {
   "cell_type": "code",
   "execution_count": null,
   "metadata": {},
   "outputs": [],
   "source": []
  },
  {
   "cell_type": "code",
   "execution_count": null,
   "metadata": {},
   "outputs": [],
   "source": []
  },
  {
   "cell_type": "code",
   "execution_count": null,
   "metadata": {},
   "outputs": [],
   "source": [
    "# Functions to update\n",
    "\n",
    "\n",
    "def bike_lane_analysis_with_parking(gdf_edges):\n",
    "    # get lanes, width, speed\n",
    "    gdf_edges = get_lanes(gdf_edges)\n",
    "    gdf_edges = get_prevailing_speed(gdf_edges)\n",
    "    if unit == 'english':\n",
    "        gdf_edges['width'] = convert_feet_with_quotes(gdf_edges['width'])\n",
    "\n",
    "    # create a list of lts conditions\n",
    "    # When multiple conditions are satisfied, the first one encountered in conditions is used\n",
    "    conditions = [\n",
    "        (gdf_edges['lanes_assumed'] >= 3) & (gdf_edges['maxspeed_assumed'] <= tables['s4'][unit]),\n",
    "        (gdf_edges['width'] <= tables['w2'][unit]),\n",
    "        (gdf_edges['width'] <= tables['w3'][unit]),\n",
    "        (gdf_edges['width'] <= tables['w4'][unit]) &\n",
    "            ((gdf_edges['maxspeed_assumed'] <= tables['s2'][unit]) &\n",
    "                (gdf_edges['highway'] == 'residential')),\n",
    "        (gdf_edges['maxspeed_assumed'] > tables['s2'][unit]) &\n",
    "            (gdf_edges['maxspeed_assumed'] <= tables['s3'][unit]),\n",
    "        (gdf_edges['maxspeed_assumed'] > tables['s3'][unit]) & \n",
    "            (gdf_edges['maxspeed_assumed'] <= tables['s4'][unit]),\n",
    "        (gdf_edges['maxspeed_assumed'] > tables['s4'][unit]),\n",
    "        (gdf_edges['highway'] != 'residential')\n",
    "        ]\n",
    "\n",
    "    # create a list of the values we want to assign for each condition\n",
    "    values = ['b2', 'b3', 'b4', 'b5', 'b6', 'b7', 'b8', 'b9']\n",
    "    gdf_edges['rule'] = np.select(conditions, values, default='b1')\n",
    "    rule_dict = {'b1':1, 'b2':3, 'b3':3, 'b4':2, 'b5':2, 'b6':2, 'b7':3, 'b8':4, 'b9':3}\n",
    "    gdf_edges['lts'] = gdf_edges['rule'].map(rule_dict)\n",
    "\n",
    "    return gdf_edges\n",
    "\n",
    "def bike_lane_analysis_no_parking(gdf_edges):\n",
    "    \"\"\"\n",
    "    LTS depends on presence of median, but this is not commonly tagged in OSM. \n",
    "    Possibly check the 'dual_carriageway' tag. \n",
    "    \"\"\"\n",
    "\n",
    "    # get lanes, width, speed\n",
    "    gdf_edges = get_lanes(gdf_edges)\n",
    "    gdf_edges = get_prevailing_speed(gdf_edges)\n",
    "    if unit == 'english':\n",
    "        gdf_edges['width'] = convert_feet_with_quotes(gdf_edges['width'])\n",
    "\n",
    "    # assign widths that are a string to nan\n",
    "    gdf_edges.loc[gdf_edges[['width']].map( # applymap depreciated\n",
    "        lambda x: isinstance(x, str))['width'], 'width'] = np.nan\n",
    "\n",
    "    # create a list of lts conditions\n",
    "    # When multiple conditions are satisfied, the first one encountered in conditions is used\n",
    "    conditions = [\n",
    "        (gdf_edges['lanes_assumed'] >= 3) & (gdf_edges['maxspeed_assumed'] <= tables['s5'][unit]),\n",
    "        (gdf_edges[['width']].map(lambda x: isinstance(x, float))['width']) & # applymap depreciated\n",
    "            (gdf_edges['width'] <= tables['w1'][unit]),\n",
    "        (gdf_edges['maxspeed_assumed'] > tables['s3'][unit]) &\n",
    "            (gdf_edges['maxspeed_assumed'] <= tables['s5'][unit]),\n",
    "        (gdf_edges['maxspeed_assumed'] > tables['s5'][unit]),\n",
    "        (gdf_edges['highway'] != 'residential')\n",
    "        ]\n",
    "\n",
    "    values = ['c3', 'c4', 'c5', 'c6', 'c7']\n",
    "    gdf_edges['rule'] = np.select(conditions, values, default='c1')\n",
    "    rule_dict = {'c1':1, 'c3':3, 'c4':2, 'c5':3, 'c6':4, 'c7':3}\n",
    "    gdf_edges['lts'] = gdf_edges['rule'].map(rule_dict)\n",
    "\n",
    "    return gdf_edges\n",
    "\n",
    "def mixed_traffic(gdf_edges):\n",
    "    # get lanes, width, speed\n",
    "    gdf_edges = get_lanes(gdf_edges)\n",
    "    gdf_edges = get_prevailing_speed(gdf_edges)\n",
    "\n",
    "    # create a list of lts conditions\n",
    "    # When multiple conditions are satisfied, the first one encountered in conditions is used\n",
    "    conditions = [\n",
    "        (gdf_edges['motor_vehicle'] == 'no'),\n",
    "        (gdf_edges['highway'] == 'pedestrian'),\n",
    "        (gdf_edges['highway'] == 'footway') & (gdf_edges['footway'] == 'crossing'),\n",
    "        (gdf_edges['highway'] == 'service') & (gdf_edges['service'] == 'alley'),\n",
    "        (gdf_edges['highway'] == 'track'),\n",
    "        (gdf_edges['maxspeed_assumed'] <= tables['s3'][unit]) & (gdf_edges['highway'] == 'service') &\n",
    "            (gdf_edges['service'] == 'parking_aisle'),\n",
    "        (gdf_edges['maxspeed_assumed'] <= tables['s3'][unit]) & (gdf_edges['highway'] == 'service') &\n",
    "            (gdf_edges['service'] == 'driveway'),\n",
    "        (gdf_edges['maxspeed_assumed'] <= tables['s1'][unit]) & (gdf_edges['highway'] == 'service'),\n",
    "        (gdf_edges['maxspeed_assumed'] <= tables['s2'][unit]) & (gdf_edges['lanes_assumed'] <= 3) &\n",
    "            (gdf_edges['highway'] == 'residential'),\n",
    "        (gdf_edges['maxspeed_assumed'] <= tables['s2'][unit]) & (gdf_edges['lanes_assumed'] <= 3),\n",
    "        (gdf_edges['maxspeed_assumed'] <= tables['s2'][unit]) & (gdf_edges['lanes_assumed'] <= 5),\n",
    "        (gdf_edges['maxspeed_assumed'] <= tables['s2'][unit]) & (gdf_edges['lanes_assumed'] > 5),\n",
    "        (gdf_edges['maxspeed_assumed'] <= tables['s3'][unit]) & (gdf_edges['lanes_assumed'] < 3) &\n",
    "            (gdf_edges['highway'] == 'residential'),\n",
    "        (gdf_edges['maxspeed_assumed'] <= tables['s3'][unit]) & (gdf_edges['lanes_assumed'] <= 3),\n",
    "        (gdf_edges['maxspeed_assumed'] <= tables['s3'][unit]) & (gdf_edges['lanes_assumed'] > 3),\n",
    "        (gdf_edges['maxspeed_assumed'] > tables['s3'][unit])\n",
    "        ]\n",
    "\n",
    "    # create a list of the values we want to assign for each condition\n",
    "    values = ['m17', 'm13', 'm14', 'm2', 'm15', 'm3', \n",
    "              'm4', 'm16', 'm5', 'm6', 'm7',\n",
    "              'm8', 'm9', 'm10', 'm11', 'm12']\n",
    "\n",
    "    # create a new column and use np.select to assign values to it using our lists as arguments\n",
    "    gdf_edges['rule'] = np.select(conditions, values, default='m0')\n",
    "\n",
    "    rule_dict = {'m17':1, 'm13':1, 'm14':2, 'm2':2, 'm15':2, 'm3':2, 'm4':2, 'm16':2,\n",
    "                 'm5':2, 'm6':3, 'm7':3, 'm8':4, 'm9':2, 'm10':3, 'm11':4, 'm12':4}\n",
    "\n",
    "    gdf_edges['lts'] = gdf_edges['rule'].map(rule_dict)\n",
    "\n",
    "    return gdf_edges"
   ]
  }
 ],
 "metadata": {
  "kernelspec": {
   "display_name": ".venv",
   "language": "python",
   "name": "python3"
  },
  "language_info": {
   "codemirror_mode": {
    "name": "ipython",
    "version": 3
   },
   "file_extension": ".py",
   "mimetype": "text/x-python",
   "name": "python",
   "nbconvert_exporter": "python",
   "pygments_lexer": "ipython3",
   "version": "3.12.4"
  }
 },
 "nbformat": 4,
 "nbformat_minor": 2
}
