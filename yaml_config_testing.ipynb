{
 "cells": [
  {
   "cell_type": "code",
   "execution_count": 1,
   "metadata": {},
   "outputs": [],
   "source": [
    "# Imports\n",
    "%load_ext autoreload\n",
    "%autoreload 2\n",
    "\n",
    "import re\n",
    "import yaml\n",
    "import numpy as np\n",
    "import pandas as pd\n",
    "\n",
    "import lts_functions as lts\n",
    "import LTS_OSM\n",
    "\n",
    "# Using jupyter notebooks with a virtual environment\n",
    "# https://anbasile.github.io/posts/2017-06-25-jupyter-venv/\n",
    "# https://stackoverflow.com/questions/58119823/jupyter-notebooks-in-visual-studio-code-does-not-use-the-active-virtual-environm\n",
    "# ipython kernel install --user --name=.venv"
   ]
  },
  {
   "cell_type": "code",
   "execution_count": 2,
   "metadata": {},
   "outputs": [],
   "source": [
    "# Settings\n",
    "region = 'Cambridge'\n",
    "unit = 'english'\n",
    "\n",
    "rating_dict = lts.read_rating()\n",
    "tables = lts.read_tables()"
   ]
  },
  {
   "cell_type": "code",
   "execution_count": 3,
   "metadata": {},
   "outputs": [
    {
     "name": "stdout",
     "output_type": "stream",
     "text": [
      "Loading saved graph for Cambridge\n",
      "gdf_edges.shape=(104947, 191)\n",
      "gdf_nodes.shape=(48058, 6)\n"
     ]
    }
   ],
   "source": [
    "# Load Data\n",
    "gdfNodes, gdfEdges = LTS_OSM.download_data(region)"
   ]
  },
  {
   "cell_type": "code",
   "execution_count": 5,
   "metadata": {},
   "outputs": [
    {
     "name": "stdout",
     "output_type": "stream",
     "text": [
      "[0, 1, 5, 6]\n"
     ]
    }
   ],
   "source": [
    "rating_dict = lts.read_rating()\n",
    "gdf_biking_permitted = lts.biking_permitted(gdfEdges.copy(), rating_dict)\n",
    "\n",
    "rules_used = gdf_biking_permitted['biking_permitted_rule_num'].unique().tolist()\n",
    "rules_used = [int(s[16:]) for s in rules_used]\n",
    "rules_used.sort()\n",
    "print(rules_used)"
   ]
  },
  {
   "cell_type": "code",
   "execution_count": 6,
   "metadata": {},
   "outputs": [
    {
     "name": "stdout",
     "output_type": "stream",
     "text": [
      "check_date:cycleway [nan '2022-02-18' '2021-09-25' '2023-06-09']\n",
      "cycleway [nan 'shared_lane' 'no' 'lane' 'separate' 'crossing' 'shared' 'track'\n",
      " 'construction']\n",
      "cycleway:both [nan 'no' 'shared_lane' 'separate' 'lane' 'share_busway']\n",
      "cycleway:both:buffer [nan 'no' 'yes']\n",
      "cycleway:both:lane [nan 'pictogram' 'exclusive' 'advisory']\n",
      "cycleway:buffer [nan \"2'\"]\n",
      "cycleway:lanes:backward [nan 'none|none|lane']\n",
      "cycleway:left [nan 'shared_lane' 'no' 'separate' 'track' 'lane' 'share_busway']\n",
      "cycleway:left:buffer [nan 'yes']\n",
      "cycleway:left:lane [nan 'exclusive' 'pictogram']\n",
      "cycleway:left:oneway [nan '-1' 'no']\n",
      "cycleway:left:separation [nan 'buffer' 'flex_post']\n",
      "cycleway:right [nan 'lane' 'separate' 'no' 'track' 'shared_lane' 'shoulder'\n",
      " 'share_busway' 'buffered_lane']\n",
      "cycleway:right:buffer [nan 'yes']\n",
      "cycleway:right:lane [nan 'exclusive' 'pictogram' 'advisory']\n",
      "cycleway:right:oneway [nan 'no']\n",
      "cycleway:right:separation [nan 'flex_post']\n",
      "cycleway:surface [nan 'asphalt']\n",
      "cycleway:width [nan \"5'\" '6\\'0\"' '3\\'0\"']\n"
     ]
    }
   ],
   "source": [
    "# get the columns that start with 'cycleway'\n",
    "cycleway_tags = gdfEdges.columns[gdfEdges.columns.str.contains('cycleway')]\n",
    "# print(cycleway_tags)\n",
    "\n",
    "for tag in cycleway_tags.sort_values():\n",
    "    print(tag, gdfEdges[tag].unique())"
   ]
  },
  {
   "cell_type": "code",
   "execution_count": 7,
   "metadata": {},
   "outputs": [
    {
     "name": "stdout",
     "output_type": "stream",
     "text": [
      "[0, 1, 2, 3, 4, 5, 6, 8, 9, 10, 11]\n"
     ]
    }
   ],
   "source": [
    "rating_dict = lts.read_rating()\n",
    "gdf_separated_edges = lts.is_separated_path(gdf_biking_permitted.copy(), rating_dict)\n",
    "\n",
    "rules_used = gdf_separated_edges['bike_lane_separation_rule_num'].unique().tolist()\n",
    "rules_used = [int(s[20:]) for s in rules_used]\n",
    "rules_used.sort()\n",
    "print(rules_used)"
   ]
  },
  {
   "cell_type": "code",
   "execution_count": 8,
   "metadata": {},
   "outputs": [
    {
     "name": "stdout",
     "output_type": "stream",
     "text": [
      "check_date:cycleway [nan '2022-02-18' '2021-09-25' '2023-06-09']\n",
      "cycleway [nan 'shared_lane' 'no' 'lane' 'separate' 'crossing' 'shared' 'track'\n",
      " 'construction']\n",
      "cycleway:both [nan 'no' 'shared_lane' 'separate' 'lane' 'share_busway']\n",
      "cycleway:both:buffer [nan 'no' 'yes']\n",
      "cycleway:both:lane [nan 'pictogram' 'exclusive' 'advisory']\n",
      "cycleway:buffer [nan \"2'\"]\n",
      "cycleway:lanes:backward [nan 'none|none|lane']\n",
      "cycleway:left [nan 'shared_lane' 'no' 'separate' 'track' 'lane' 'share_busway']\n",
      "cycleway:left:buffer [nan 'yes']\n",
      "cycleway:left:lane [nan 'exclusive' 'pictogram']\n",
      "cycleway:left:oneway [nan '-1' 'no']\n",
      "cycleway:left:separation [nan 'buffer' 'flex_post']\n",
      "cycleway:right [nan 'lane' 'separate' 'no' 'track' 'shared_lane' 'shoulder'\n",
      " 'share_busway' 'buffered_lane']\n",
      "cycleway:right:buffer [nan 'yes']\n",
      "cycleway:right:lane [nan 'exclusive' 'pictogram' 'advisory']\n",
      "cycleway:right:oneway [nan 'no']\n",
      "cycleway:right:separation [nan 'flex_post']\n",
      "cycleway:surface [nan 'asphalt']\n",
      "cycleway:width [nan \"5'\" '6\\'0\"' '3\\'0\"']\n"
     ]
    }
   ],
   "source": [
    "# get the columns that start with 'cycleway'\n",
    "cycleway_tags = gdfEdges.columns[gdfEdges.columns.str.contains('cycleway')]\n",
    "# print(cycleway_tags)\n",
    "\n",
    "for tag in cycleway_tags.sort_values():\n",
    "    print(tag, gdfEdges[tag].unique())\n",
    "\n",
    "# print('shoulder:access:bicycle', gdfEdges['shoulder:access:bicycle'].unique())"
   ]
  },
  {
   "cell_type": "code",
   "execution_count": 10,
   "metadata": {},
   "outputs": [
    {
     "name": "stdout",
     "output_type": "stream",
     "text": [
      "[0, 1, 2, 3, 4]\n"
     ]
    }
   ],
   "source": [
    "rating_dict = lts.read_rating()\n",
    "gdf_bike_lanes = lts.is_bike_lane(gdf_separated_edges.copy(), rating_dict)\n",
    "\n",
    "rules_used = gdf_bike_lanes['bike_lane_exist_rule_num'].unique().tolist()\n",
    "rules_used = [int(s[15:]) for s in rules_used]\n",
    "rules_used.sort()\n",
    "print(rules_used)\n"
   ]
  },
  {
   "cell_type": "code",
   "execution_count": 11,
   "metadata": {},
   "outputs": [
    {
     "name": "stdout",
     "output_type": "stream",
     "text": [
      "parking:both [nan 'no' 'lane' 'separate' 'street_side']\n",
      "parking:both:orientation [nan 'parallel']\n",
      "parking:condition:both [nan 'no_parking' 'no_stopping' 'ticket;residents']\n",
      "parking:condition:left [nan 'no_parking' 'residents' 'ticket;residents']\n",
      "parking:condition:right [nan 'no_parking' 'residents']\n",
      "parking:lane:both [nan 'parallel' 'no_stopping' 'no']\n",
      "parking:lane:both:parallel [nan 'on_street']\n",
      "parking:lane:left [nan 'parallel' 'no_stopping' 'no']\n",
      "parking:lane:left:parallel [nan 'on_street']\n",
      "parking:lane:right [nan 'no_stopping' 'parallel' 'no']\n",
      "parking:lane:right:parallel [nan 'on_street' 'painted_area_only']\n",
      "parking:left [nan 'no' 'lane' 'separate' 'street_side']\n",
      "parking:left:orientation [nan 'parallel']\n",
      "parking:left:restriction [nan 'no_stopping']\n",
      "parking:right [nan 'lane' 'no' 'separate' 'street_side']\n",
      "parking:right:access [nan 'permit']\n",
      "parking:right:fee [nan 'yes']\n",
      "parking:right:orientation [nan 'parallel']\n"
     ]
    }
   ],
   "source": [
    "tags = gdfEdges.columns[gdfEdges.columns.str.contains('parking')]\n",
    "for tag in tags.sort_values():\n",
    "    print(tag, gdfEdges[tag].unique())"
   ]
  },
  {
   "cell_type": "code",
   "execution_count": 13,
   "metadata": {},
   "outputs": [
    {
     "name": "stdout",
     "output_type": "stream",
     "text": [
      "[0, 1, 2, 3, 4, 6, 7, 8, 9, 10, 21, 22, 23, 24, 26, 28, 29, 30, 41, 42, 44, 50]\n"
     ]
    }
   ],
   "source": [
    "rating_dict = lts.read_rating()\n",
    "gdf_parking = lts.parking_present(gdf_bike_lanes.copy(), rating_dict)\n",
    "\n",
    "rules_used = gdf_parking['parking_rule_num'].unique().tolist()\n",
    "rules_used = [int(s[7:]) for s in rules_used]\n",
    "rules_used.sort()\n",
    "print(rules_used)"
   ]
  },
  {
   "cell_type": "code",
   "execution_count": 14,
   "metadata": {},
   "outputs": [
    {
     "name": "stdout",
     "output_type": "stream",
     "text": [
      "maxspeed [nan '25 mph' '30 mph' '20 mph' '15 mph' '35 mph' '25' '40 mph' '20'\n",
      " '55 mph' '10 mph' '5 mph']\n",
      "maxspeed:advisory [nan '5 mph']\n",
      "maxspeed:type [nan 'US:urban' 'sign']\n",
      "source:maxspeed [nan 'massgis']\n",
      "\n",
      "---\n",
      "\n",
      "area:highway [nan 'traffic_island' 'yes']\n",
      "construction:highway [nan 'cycleway']\n",
      "highway ['footway' 'residential' 'secondary' 'unclassified' 'trunk' 'service'\n",
      " 'tertiary' 'primary' 'cycleway' 'path' 'primary_link' 'pedestrian'\n",
      " 'trunk_link' 'tertiary_link' 'secondary_link' 'construction'\n",
      " 'living_street' 'busway' 'track']\n",
      "note:highway [nan 'busway']\n"
     ]
    }
   ],
   "source": [
    "tags = gdfEdges.columns[gdfEdges.columns.str.contains('speed')]\n",
    "for tag in tags.sort_values():\n",
    "    print(tag, gdfEdges[tag].unique())\n",
    "\n",
    "print('\\n---\\n')\n",
    "tags = gdfEdges.columns[gdfEdges.columns.str.contains('highway')]\n",
    "for tag in tags.sort_values():\n",
    "    print(tag, gdfEdges[tag].unique())"
   ]
  },
  {
   "cell_type": "code",
   "execution_count": 15,
   "metadata": {},
   "outputs": [
    {
     "name": "stdout",
     "output_type": "stream",
     "text": [
      "['25 mph' nan '35 mph' '25' '20 mph' '40 mph' '30 mph']\n"
     ]
    }
   ],
   "source": [
    "print(gdfEdges[gdfEdges['highway'] == 'primary']['maxspeed'].unique())"
   ]
  },
  {
   "cell_type": "code",
   "execution_count": 17,
   "metadata": {},
   "outputs": [
    {
     "name": "stdout",
     "output_type": "stream",
     "text": [
      "[0, 1, 2, 3, 4, 5, 6, 7, 8, 9, 10, 11, 12]\n",
      "[25 30 20 35 40 50 15  0 55 10  5]\n"
     ]
    }
   ],
   "source": [
    "rating_dict = lts.read_rating()\n",
    "gdf_speed = lts.get_prevailing_speed(gdf_parking.copy(), rating_dict)\n",
    "\n",
    "rules_used = gdf_speed['speed_rule_num'].unique().tolist()\n",
    "rules_used = [int(s[5:]) for s in rules_used]\n",
    "rules_used.sort()\n",
    "print(rules_used)\n",
    "\n",
    "print(gdf_speed['speed'].unique())"
   ]
  },
  {
   "cell_type": "code",
   "execution_count": 18,
   "metadata": {},
   "outputs": [
    {
     "name": "stdout",
     "output_type": "stream",
     "text": [
      "[nan '2' '1' '3' '4' '5' '7']\n"
     ]
    }
   ],
   "source": [
    "print(gdfEdges['lanes'].unique())"
   ]
  },
  {
   "cell_type": "code",
   "execution_count": 19,
   "metadata": {},
   "outputs": [],
   "source": [
    "rating_dict = lts.read_rating()\n",
    "gdf_lanes = lts.get_lanes(gdf_speed.copy())"
   ]
  },
  {
   "cell_type": "code",
   "execution_count": 20,
   "metadata": {},
   "outputs": [
    {
     "name": "stdout",
     "output_type": "stream",
     "text": [
      "[2 1 3 4 5 7]\n"
     ]
    }
   ],
   "source": [
    "print(gdf_lanes['lane_count'].unique())"
   ]
  },
  {
   "cell_type": "code",
   "execution_count": 21,
   "metadata": {},
   "outputs": [
    {
     "name": "stdout",
     "output_type": "stream",
     "text": [
      "lane_markings [nan 'no' 'yes']\n"
     ]
    }
   ],
   "source": [
    "tags = gdfEdges.columns[gdfEdges.columns.str.contains('lane_markings')]\n",
    "for tag in tags.sort_values():\n",
    "    print(tag, gdfEdges[tag].unique())"
   ]
  },
  {
   "cell_type": "code",
   "execution_count": 23,
   "metadata": {},
   "outputs": [
    {
     "name": "stdout",
     "output_type": "stream",
     "text": [
      "[0, 1, 2, 3, 4, 5, 6, 7, 8, 9, 10, 11, 12, 13, 14]\n"
     ]
    }
   ],
   "source": [
    "rating_dict = lts.read_rating()\n",
    "gdf_centerlines = lts.get_centerlines(gdf_lanes.copy(), rating_dict)\n",
    "\n",
    "rules_used = gdf_centerlines['centerline_rule_num'].unique().tolist()\n",
    "rules_used = [int(s[10:]) for s in rules_used]\n",
    "rules_used.sort()\n",
    "print(rules_used)"
   ]
  },
  {
   "cell_type": "code",
   "execution_count": 24,
   "metadata": {},
   "outputs": [
    {
     "name": "stdout",
     "output_type": "stream",
     "text": [
      "cycleway:width [nan \"5'\" '6\\'0\"' '3\\'0\"']\n",
      "source:width [nan 'ARCore']\n",
      "width [nan '7.6' '9.5' '15.2' '21.3' '14.9' '12.2' '11.6' '30.5' '18.9' '20.7'\n",
      " '11.0' '7.3' '15.9' '9.1' '17\\'0\"' '11.9' '20\\'0\"' '17.1' '24.4' '14.0'\n",
      " '18.3' '24\\'0\"' '30.2' '14.6' '15.2;18.6' '13.4' '25.9' '6.7' '28.0'\n",
      " '36.6' '16.8' '3.7' '19.8' '10.4;12.2' '11.7' '4.3' '4.6' '8.5' '12.8'\n",
      " '10.4' '15.5' '13.7' '6.1' '25.6' '9.8' '4.9' '26.8' '3.0' '11.3' '5.5'\n",
      " '10.7' '19.2' '7.9' '5.8' '8.2' '10.1' '28\\'0\"' '20.1' '18.6' '6.4' '5.2'\n",
      " '16.5' '14.3' '17.7' '19.5' '38.1' '8.8' '22.9' '30\\'0\"' '16.2' '4.7'\n",
      " '16.8;15.2' '7' '2' '12.5' '46\\'0\"' '50\\'0\"' '16.1' '27\\'0\"' '91.5'\n",
      " '18.0' '11.6;10.4' '5' '27.4' '8\\'0\"' '3.3' '3' '3.5' '8\\'8\"' '5\\'0\"' '6'\n",
      " '21\\'0\"' \"10'\" '1' '2.7' '1.5' '9\\'0\"' '8' '10\\'0\"' '12\\'0\"' '1.4' \"8'\"\n",
      " '7.0' '1.8' '6\\'0\"' '16\\'0\"']\n",
      "width:carriageway [nan '9' '8']\n",
      "width:lanes [nan '3|3']\n",
      "cycleway:both:buffer [nan 'no' 'yes']\n",
      "cycleway:buffer [nan \"2'\"]\n",
      "cycleway:left:buffer [nan 'yes']\n",
      "cycleway:right:buffer [nan 'yes']\n"
     ]
    }
   ],
   "source": [
    "tags = gdfEdges.columns[gdfEdges.columns.str.contains('width')]\n",
    "for tag in tags.sort_values():\n",
    "    print(tag, gdfEdges[tag].unique())\n",
    "\n",
    "tags = gdfEdges.columns[gdfEdges.columns.str.contains('buffer')]\n",
    "for tag in tags.sort_values():\n",
    "    print(tag, gdfEdges[tag].unique())"
   ]
  },
  {
   "cell_type": "code",
   "execution_count": 25,
   "metadata": {},
   "outputs": [],
   "source": [
    "gdf_width_ft = lts.width_ft(gdf_centerlines.copy())"
   ]
  },
  {
   "cell_type": "code",
   "execution_count": 26,
   "metadata": {},
   "outputs": [
    {
     "name": "stdout",
     "output_type": "stream",
     "text": [
      "[  3.28084      4.593176     4.92126      5.           5.905512\n",
      "   6.           6.56168      8.           8.66666667   8.858268\n",
      "   9.           9.84252     10.          10.826772    11.48294\n",
      "  12.          12.139108    14.107612    15.091864    15.419948\n",
      "  16.          16.076116    16.4042      17.          17.060368\n",
      "  18.04462     19.028872    19.68504     20.          20.013124\n",
      "  20.997376    21.          21.981628    22.96588     23.950132\n",
      "  24.          24.934384    25.918636    26.24672     26.902888\n",
      "  27.          27.88714     28.          28.871392    29.855644\n",
      "  30.          31.16798     32.152232    33.136484    34.120736\n",
      "  35.104988    36.08924     37.073492    38.057744    38.385828\n",
      "  39.041996    40.026248    41.0105      41.994752    43.963256\n",
      "  44.947508    45.93176     46.          46.916012    47.900264\n",
      "  48.884516    49.868768    50.          50.85302     52.165356\n",
      "  52.821524    53.149608    54.13386     55.118112    56.102364\n",
      "  58.070868    59.05512     60.039372    61.023624    62.007876\n",
      "  62.992128    63.97638     64.960632    65.944884    67.913388\n",
      "  69.881892    75.131236    80.052496    83.989504    84.973756\n",
      "  87.926512    89.895016    91.86352     99.081368   100.06562\n",
      " 120.078744   125.000004   300.19686             nan]\n",
      "[ 3.  5.  6. nan]\n"
     ]
    }
   ],
   "source": [
    "streetWidth = gdf_width_ft['width_street'].unique()\n",
    "cyclewayWidth = gdf_width_ft['width_bikelane'].unique()\n",
    "\n",
    "streetWidth.sort()\n",
    "cyclewayWidth.sort()\n",
    "\n",
    "print(streetWidth)\n",
    "print(cyclewayWidth)"
   ]
  },
  {
   "cell_type": "code",
   "execution_count": 27,
   "metadata": {},
   "outputs": [
    {
     "name": "stdout",
     "output_type": "stream",
     "text": [
      "cycleway:left:oneway [nan '-1' 'no']\n",
      "cycleway:right:oneway [nan 'no']\n",
      "oneway [False  True]\n",
      "oneway:bicycle [nan 'no' 'yes']\n",
      "oneway:conditional [nan '-1 @ (17:00-19:00); ' 'yes @ (07:00-09:00,15:00-19:00)']\n",
      "parking ['yes' 'no' 'left:no' 'left:yes' 'right:no' 'right:yes']\n",
      "parking:both [nan 'no' 'lane' 'separate' 'street_side']\n",
      "parking:both:orientation [nan 'parallel']\n",
      "parking:condition:both [nan 'no_parking' 'no_stopping' 'ticket;residents']\n",
      "parking:condition:left [nan 'no_parking' 'residents' 'ticket;residents']\n",
      "parking:condition:right [nan 'no_parking' 'residents']\n",
      "parking:lane:both [nan 'parallel' 'no_stopping' 'no']\n",
      "parking:lane:both:parallel [nan 'on_street']\n",
      "parking:lane:left [nan 'parallel' 'no_stopping' 'no']\n",
      "parking:lane:left:parallel [nan 'on_street']\n",
      "parking:lane:right [nan 'no_stopping' 'parallel' 'no']\n",
      "parking:lane:right:parallel [nan 'on_street' 'painted_area_only']\n",
      "parking:left [nan 'no' 'lane' 'separate' 'street_side']\n",
      "parking:left:orientation [nan 'parallel']\n",
      "parking:left:restriction [nan 'no_stopping']\n",
      "parking:right [nan 'lane' 'no' 'separate' 'street_side']\n",
      "parking:right:access [nan 'permit']\n",
      "parking:right:fee [nan 'yes']\n",
      "parking:right:orientation [nan 'parallel']\n",
      "parking_condition ['default', '(`parking:both` == 'no')', '(`parking:left` == 'no')', '(`parking:both` == 'lane')', '(`parking:left` == 'lane')', ..., '(`parking:both` == 'street_side')', '(`parking:condition:both` == 'no_parking')', '(`parking:right` == 'separate')', '(`parking:condition:both` == 'no_stopping')', '(`parking:left` == 'street_side')']\n",
      "Length: 22\n",
      "Categories (22, object): ['(`parking:both` == 'lane')', '(`parking:both` == 'no')', '(`parking:both` == 'separate')', '(`parking:both` == 'street_side')', ..., '(`parking:right` == 'lane')', '(`parking:right` == 'no')', '(`parking:right` == 'separate')', 'default']\n",
      "parking_rule ['Assume street parking is allowed on both sides', 'Parking not allowed on either side.', 'Parking not allowed on the left.', 'Parking allowed on both sides.', 'Parking allowed on the left.', ..., 'Stopping not allowed on the left.', 'Parking allowed on the right.', 'Parallel parking on the right.', 'Parking separately mapped on the left.', 'Parking separately mapped on the right.']\n",
      "Length: 15\n",
      "Categories (15, object): ['Assume street parking is allowed on both sides', 'Parallel parking on both sides.', 'Parallel parking on the left.', 'Parallel parking on the right.', ..., 'Parking separately mapped on the left.', 'Parking separately mapped on the right.', 'Stopping not allowed on either side.', 'Stopping not allowed on the left.']\n",
      "parking_rule_num ['parking0', 'parking1', 'parking21', 'parking2', 'parking22', ..., 'parking3', 'parking6', 'parking44', 'parking7', 'parking23']\n",
      "Length: 22\n",
      "Categories (22, object): ['parking0', 'parking1', 'parking10', 'parking2', ..., 'parking6', 'parking7', 'parking8', 'parking9']\n",
      "width_parking [8.5 0. ]\n"
     ]
    }
   ],
   "source": [
    "tags = gdfEdges.columns[gdfEdges.columns.str.contains('one')]\n",
    "for tag in tags.sort_values():\n",
    "    print(tag, gdfEdges[tag].unique())\n",
    "\n",
    "tags = gdf_width_ft.columns[gdf_width_ft.columns.str.contains('parking')]\n",
    "for tag in tags.sort_values():\n",
    "    print(tag, gdf_width_ft[tag].unique())"
   ]
  },
  {
   "cell_type": "code",
   "execution_count": 28,
   "metadata": {},
   "outputs": [],
   "source": [
    "# This is new.\n",
    "rating_dict = lts.read_rating()\n",
    "gdf_nw = lts.define_narrow_wide(gdf_width_ft.copy())"
   ]
  },
  {
   "cell_type": "code",
   "execution_count": 30,
   "metadata": {},
   "outputs": [],
   "source": [
    "rating_dict = lts.read_rating()\n",
    "gdf_adt = lts.define_adt(gdf_nw.copy(), rating_dict)"
   ]
  },
  {
   "cell_type": "code",
   "execution_count": 31,
   "metadata": {},
   "outputs": [
    {
     "name": "stdout",
     "output_type": "stream",
     "text": [
      "[2 1 3 4 5 7]\n",
      "[25 30 20 35 40 50 15  0 55 10  5]\n",
      "[3001  749  599 1501 8001 1001]\n"
     ]
    }
   ],
   "source": [
    "print(gdf_adt['lane_count'].unique())\n",
    "print(gdf_adt['speed'].unique())\n",
    "print(gdf_adt['ADT'].unique())"
   ]
  },
  {
   "cell_type": "code",
   "execution_count": 32,
   "metadata": {},
   "outputs": [],
   "source": [
    "tags = gdf_adt.columns[gdf_adt.columns.str.contains('contra')]\n",
    "for tag in tags.sort_values():\n",
    "    print(tag, gdf_adt[tag].unique())"
   ]
  },
  {
   "cell_type": "code",
   "execution_count": 35,
   "metadata": {},
   "outputs": [
    {
     "name": "stdout",
     "output_type": "stream",
     "text": [
      "['table_mixed_1', 'table_mixed_2', 'table_mixed_3', 'table_mixed_4', 'table_mixed_5']\n",
      "['table_bikelane_noparking_1', 'table_bikelane_noparking_2', 'table_bikelane_noparking_3']\n",
      "['table_bikelane_yesparking_1', 'table_bikelane_yesparking_2', 'table_bikelane_yesparking_3', 'table_bikelane_yesparking_4']\n"
     ]
    }
   ],
   "source": [
    "rating_dict = lts.read_rating()\n",
    "tables = lts.read_tables()\n",
    "gdf_lts = lts.calculate_lts(gdf_adt.copy(), tables)"
   ]
  },
  {
   "cell_type": "code",
   "execution_count": 36,
   "metadata": {},
   "outputs": [
    {
     "name": "stdout",
     "output_type": "stream",
     "text": [
      "gdf_lts['LTS'].unique()=array([ 1.,  3.,  2., nan,  4.,  0.])\n",
      "gdf_lts['LTS_mixed'].unique()=array([ 2.,  1.,  3., nan,  4.])\n",
      "gdf_lts['centerline'].unique()=array(['no', 'yes'], dtype=object)\n",
      "gdf_lts['lane_count'].unique()=array([2, 1, 3, 4, 5, 7])\n",
      "gdf_lts['oneway'].unique()=array([False,  True])\n"
     ]
    }
   ],
   "source": [
    "print(f\"{gdf_lts['LTS'].unique()=}\")\n",
    "print(f\"{gdf_lts['LTS_mixed'].unique()=}\")\n",
    "print(f\"{gdf_lts['centerline'].unique()=}\")\n",
    "print(f\"{gdf_lts['lane_count'].unique()=}\")\n",
    "print(f\"{gdf_lts['oneway'].unique()=}\")"
   ]
  }
 ],
 "metadata": {
  "kernelspec": {
   "display_name": ".venv",
   "language": "python",
   "name": "python3"
  },
  "language_info": {
   "codemirror_mode": {
    "name": "ipython",
    "version": 3
   },
   "file_extension": ".py",
   "mimetype": "text/x-python",
   "name": "python",
   "nbconvert_exporter": "python",
   "pygments_lexer": "ipython3",
   "version": "3.12.4"
  }
 },
 "nbformat": 4,
 "nbformat_minor": 2
}
