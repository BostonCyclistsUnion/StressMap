{
 "cells": [
  {
   "cell_type": "code",
   "execution_count": 1,
   "metadata": {},
   "outputs": [],
   "source": [
    "# Imports\n",
    "%load_ext autoreload\n",
    "%autoreload 2\n",
    "\n",
    "import re\n",
    "import yaml\n",
    "import numpy as np\n",
    "import pandas as pd\n",
    "\n",
    "import lts_functions as lts\n",
    "import LTS_OSM\n",
    "\n",
    "# Using jupyter notebooks with a virtual environment\n",
    "# https://anbasile.github.io/posts/2017-06-25-jupyter-venv/\n",
    "# https://stackoverflow.com/questions/58119823/jupyter-notebooks-in-visual-studio-code-does-not-use-the-active-virtual-environm\n",
    "# ipython kernel install --user --name=.venv"
   ]
  },
  {
   "cell_type": "code",
   "execution_count": 2,
   "metadata": {},
   "outputs": [],
   "source": [
    "# Settings\n",
    "region = 'Cambridge'\n",
    "unit = 'english'\n",
    "\n",
    "def read_tables():\n",
    "    with open('config/tables.yml', 'r') as yml_file:\n",
    "        tables = yaml.safe_load(yml_file)\n",
    "    return tables\n",
    "\n",
    "def read_rating():\n",
    "    with open('config/rating_dict.yml', 'r') as yml_file:\n",
    "        rating_dict = yaml.safe_load(yml_file)\n",
    "    return rating_dict\n",
    "\n",
    "rating_dict = read_rating()\n",
    "tables = read_tables()"
   ]
  },
  {
   "cell_type": "code",
   "execution_count": 3,
   "metadata": {},
   "outputs": [
    {
     "name": "stdout",
     "output_type": "stream",
     "text": [
      "Loading saved graph for Cambridge\n",
      "gdf_edges.shape=(104947, 191)\n",
      "gdf_nodes.shape=(48058, 6)\n"
     ]
    }
   ],
   "source": [
    "# Load Data\n",
    "gdfNodes, gdfEdges = LTS_OSM.download_data(region)"
   ]
  },
  {
   "cell_type": "code",
   "execution_count": 48,
   "metadata": {},
   "outputs": [],
   "source": [
    "def apply_rules(gdf_edges, rating_dict, prefix):\n",
    "    rules = {k:v for (k,v) in rating_dict.items() if prefix in k}\n",
    "        \n",
    "    for key, value in rules.items():\n",
    "        # Check rules in order, once something has been updated, leave it be\n",
    "        # FIXME gracefully handle if condition is not found\n",
    "        # FIXME need to handle single sided tags so that can include both sides in outputs\n",
    "        # print(key)\n",
    "        gdf_filter = gdf_edges.eval(f\"{value['condition']} & (`{prefix}_condition` == 'default')\")\n",
    "        gdf_edges.loc[gdf_filter, prefix] = value[prefix]\n",
    "        gdf_edges.loc[gdf_filter, f'{prefix}_rule_num'] = key\n",
    "        gdf_edges.loc[gdf_filter, f'{prefix}_rule'] = value['rule_message']\n",
    "        gdf_edges.loc[gdf_filter, f'{prefix}_condition'] = value['condition']\n",
    "        if 'LTS' in value:\n",
    "            gdf_edges.loc[gdf_filter, 'LTS'] = value['LTS']\n",
    "\n",
    "    # Save memory by setting as category, need to set categories first\n",
    "    for col in [\n",
    "        # prefix,\n",
    "        f'{prefix}_rule_num',\n",
    "        f'{prefix}_condition', \n",
    "        f'{prefix}_rule',\n",
    "        ]:\n",
    "\n",
    "        gdf_edges[col] = gdf_edges[col].astype('category')\n",
    "\n",
    "    return gdf_edges"
   ]
  },
  {
   "cell_type": "code",
   "execution_count": 49,
   "metadata": {},
   "outputs": [
    {
     "name": "stdout",
     "output_type": "stream",
     "text": [
      "[0, 1, 5, 6]\n"
     ]
    }
   ],
   "source": [
    "def biking_permitted(gdf_edges, rating_dict):\n",
    "    prefix = 'biking_permitted'\n",
    "    defaultRule = f'{prefix}0'\n",
    "\n",
    "    gdf_edges[prefix] = 'yes'\n",
    "    gdf_edges[f'{prefix}_rule_num'] = defaultRule\n",
    "    gdf_edges[f'{prefix}_rule'] = 'Assume biking permitted'\n",
    "    gdf_edges[f'{prefix}_condition'] = 'default'\n",
    "\n",
    "    gdf_edges = apply_rules(gdf_edges, rating_dict, prefix)\n",
    "\n",
    "    return gdf_edges\n",
    "\n",
    "rating_dict = read_rating()\n",
    "gdf_biking_permitted = biking_permitted(gdfEdges.copy(), rating_dict)\n",
    "\n",
    "rules_used = gdf_biking_permitted['biking_permitted_rule_num'].unique().tolist()\n",
    "rules_used = [int(s[16:]) for s in rules_used]\n",
    "rules_used.sort()\n",
    "print(rules_used)"
   ]
  },
  {
   "cell_type": "code",
   "execution_count": 50,
   "metadata": {},
   "outputs": [
    {
     "name": "stdout",
     "output_type": "stream",
     "text": [
      "check_date:cycleway [nan '2022-02-18' '2021-09-25' '2023-06-09']\n",
      "cycleway [nan 'shared_lane' 'no' 'lane' 'separate' 'crossing' 'shared' 'track'\n",
      " 'construction']\n",
      "cycleway:both [nan 'no' 'shared_lane' 'separate' 'lane' 'share_busway']\n",
      "cycleway:both:buffer [nan 'no' 'yes']\n",
      "cycleway:both:lane [nan 'pictogram' 'exclusive' 'advisory']\n",
      "cycleway:buffer [nan \"2'\"]\n",
      "cycleway:lanes:backward [nan 'none|none|lane']\n",
      "cycleway:left [nan 'shared_lane' 'no' 'separate' 'track' 'lane' 'share_busway']\n",
      "cycleway:left:buffer [nan 'yes']\n",
      "cycleway:left:lane [nan 'exclusive' 'pictogram']\n",
      "cycleway:left:oneway [nan '-1' 'no']\n",
      "cycleway:left:separation [nan 'buffer' 'flex_post']\n",
      "cycleway:right [nan 'lane' 'separate' 'no' 'track' 'shared_lane' 'shoulder'\n",
      " 'share_busway' 'buffered_lane']\n",
      "cycleway:right:buffer [nan 'yes']\n",
      "cycleway:right:lane [nan 'exclusive' 'pictogram' 'advisory']\n",
      "cycleway:right:oneway [nan 'no']\n",
      "cycleway:right:separation [nan 'flex_post']\n",
      "cycleway:surface [nan 'asphalt']\n",
      "cycleway:width [nan \"5'\" '6\\'0\"' '3\\'0\"']\n"
     ]
    }
   ],
   "source": [
    "# get the columns that start with 'cycleway'\n",
    "cycleway_tags = gdfEdges.columns[gdfEdges.columns.str.contains('cycleway')]\n",
    "# print(cycleway_tags)\n",
    "\n",
    "for tag in cycleway_tags.sort_values():\n",
    "    print(tag, gdfEdges[tag].unique())"
   ]
  },
  {
   "cell_type": "code",
   "execution_count": 51,
   "metadata": {},
   "outputs": [
    {
     "name": "stdout",
     "output_type": "stream",
     "text": [
      "[0, 1, 2, 3, 4, 5, 6, 8, 9, 10, 11]\n"
     ]
    }
   ],
   "source": [
    "def is_separated_path(gdf_edges, rating_dict):   \n",
    "    prefix = 'bike_lane_separation'\n",
    "    defaultRule = f'{prefix}0'\n",
    "\n",
    "    gdf_edges[prefix] = 'no'\n",
    "    gdf_edges[f'{prefix}_rule_num'] = defaultRule\n",
    "    gdf_edges[f'{prefix}_rule'] = 'Assume no bike lane separation'\n",
    "    gdf_edges[f'{prefix}_condition'] = 'default'\n",
    "\n",
    "    # get the columns that start with 'cycleway'\n",
    "    # tags = gdf_edges.columns[gdf_edges.columns.str.contains('cycleway')]\n",
    "    # for tag in tags:\n",
    "    #     print(tag, gdfEdges[tag].unique())\n",
    "\n",
    "    gdf_edges = apply_rules(gdf_edges, rating_dict, prefix)\n",
    "\n",
    "    return gdf_edges\n",
    "\n",
    "rating_dict = read_rating()\n",
    "gdf_separated_edges = is_separated_path(gdf_biking_permitted.copy(), rating_dict)\n",
    "\n",
    "rules_used = gdf_separated_edges['bike_lane_separation_rule_num'].unique().tolist()\n",
    "rules_used = [int(s[20:]) for s in rules_used]\n",
    "rules_used.sort()\n",
    "print(rules_used)"
   ]
  },
  {
   "cell_type": "code",
   "execution_count": 52,
   "metadata": {},
   "outputs": [
    {
     "name": "stdout",
     "output_type": "stream",
     "text": [
      "check_date:cycleway [nan '2022-02-18' '2021-09-25' '2023-06-09']\n",
      "cycleway [nan 'shared_lane' 'no' 'lane' 'separate' 'crossing' 'shared' 'track'\n",
      " 'construction']\n",
      "cycleway:both [nan 'no' 'shared_lane' 'separate' 'lane' 'share_busway']\n",
      "cycleway:both:buffer [nan 'no' 'yes']\n",
      "cycleway:both:lane [nan 'pictogram' 'exclusive' 'advisory']\n",
      "cycleway:buffer [nan \"2'\"]\n",
      "cycleway:lanes:backward [nan 'none|none|lane']\n",
      "cycleway:left [nan 'shared_lane' 'no' 'separate' 'track' 'lane' 'share_busway']\n",
      "cycleway:left:buffer [nan 'yes']\n",
      "cycleway:left:lane [nan 'exclusive' 'pictogram']\n",
      "cycleway:left:oneway [nan '-1' 'no']\n",
      "cycleway:left:separation [nan 'buffer' 'flex_post']\n",
      "cycleway:right [nan 'lane' 'separate' 'no' 'track' 'shared_lane' 'shoulder'\n",
      " 'share_busway' 'buffered_lane']\n",
      "cycleway:right:buffer [nan 'yes']\n",
      "cycleway:right:lane [nan 'exclusive' 'pictogram' 'advisory']\n",
      "cycleway:right:oneway [nan 'no']\n",
      "cycleway:right:separation [nan 'flex_post']\n",
      "cycleway:surface [nan 'asphalt']\n",
      "cycleway:width [nan \"5'\" '6\\'0\"' '3\\'0\"']\n"
     ]
    }
   ],
   "source": [
    "# get the columns that start with 'cycleway'\n",
    "cycleway_tags = gdfEdges.columns[gdfEdges.columns.str.contains('cycleway')]\n",
    "# print(cycleway_tags)\n",
    "\n",
    "for tag in cycleway_tags.sort_values():\n",
    "    print(tag, gdfEdges[tag].unique())\n",
    "\n",
    "# print('shoulder:access:bicycle', gdfEdges['shoulder:access:bicycle'].unique())"
   ]
  },
  {
   "cell_type": "code",
   "execution_count": 53,
   "metadata": {},
   "outputs": [
    {
     "name": "stdout",
     "output_type": "stream",
     "text": [
      "[0, 1, 2, 3, 4]\n"
     ]
    }
   ],
   "source": [
    "def is_bike_lane(gdf_edges):\n",
    "    \"\"\"\n",
    "    Check if there's a bike lane, use road features to assign LTS\n",
    "    \"\"\"\n",
    "    # get the columns that start with 'cycleway'\n",
    "    # tags = gdf_edges.columns[gdf_edges.columns.str.contains('cycleway')]\n",
    "    # for tag in tags:\n",
    "    #     print(tag, gdfEdges[tag].unique())\n",
    "\n",
    "    prefix = 'bike_lane_exist'\n",
    "    defaultRule = f'{prefix}0'\n",
    "\n",
    "    gdf_edges[prefix] = 'no'\n",
    "    gdf_edges[f'{prefix}_rule_num'] = defaultRule\n",
    "    gdf_edges[f'{prefix}_rule'] = 'Assume no bike lane'\n",
    "    gdf_edges[f'{prefix}_condition'] = 'default'\n",
    "\n",
    "    gdf_edges = apply_rules(gdf_edges, rating_dict, prefix)\n",
    "\n",
    "    return gdf_edges\n",
    "\n",
    "rating_dict = read_rating()\n",
    "gdf_bike_lanes = is_bike_lane(gdf_separated_edges.copy())\n",
    "\n",
    "rules_used = gdf_bike_lanes['bike_lane_exist_rule_num'].unique().tolist()\n",
    "rules_used = [int(s[15:]) for s in rules_used]\n",
    "rules_used.sort()\n",
    "print(rules_used)\n"
   ]
  },
  {
   "cell_type": "code",
   "execution_count": 54,
   "metadata": {},
   "outputs": [
    {
     "name": "stdout",
     "output_type": "stream",
     "text": [
      "parking:both [nan 'no' 'lane' 'separate' 'street_side']\n",
      "parking:both:orientation [nan 'parallel']\n",
      "parking:condition:both [nan 'no_parking' 'no_stopping' 'ticket;residents']\n",
      "parking:condition:left [nan 'no_parking' 'residents' 'ticket;residents']\n",
      "parking:condition:right [nan 'no_parking' 'residents']\n",
      "parking:lane:both [nan 'parallel' 'no_stopping' 'no']\n",
      "parking:lane:both:parallel [nan 'on_street']\n",
      "parking:lane:left [nan 'parallel' 'no_stopping' 'no']\n",
      "parking:lane:left:parallel [nan 'on_street']\n",
      "parking:lane:right [nan 'no_stopping' 'parallel' 'no']\n",
      "parking:lane:right:parallel [nan 'on_street' 'painted_area_only']\n",
      "parking:left [nan 'no' 'lane' 'separate' 'street_side']\n",
      "parking:left:orientation [nan 'parallel']\n",
      "parking:left:restriction [nan 'no_stopping']\n",
      "parking:right [nan 'lane' 'no' 'separate' 'street_side']\n",
      "parking:right:access [nan 'permit']\n",
      "parking:right:fee [nan 'yes']\n",
      "parking:right:orientation [nan 'parallel']\n"
     ]
    }
   ],
   "source": [
    "tags = gdfEdges.columns[gdfEdges.columns.str.contains('parking')]\n",
    "for tag in tags.sort_values():\n",
    "    print(tag, gdfEdges[tag].unique())"
   ]
  },
  {
   "cell_type": "code",
   "execution_count": 55,
   "metadata": {},
   "outputs": [
    {
     "name": "stdout",
     "output_type": "stream",
     "text": [
      "[0, 1, 2, 3, 4, 6, 7, 8, 9, 10, 21, 22, 23, 24, 26, 28, 29, 30, 41, 42, 44, 50]\n"
     ]
    },
    {
     "name": "stderr",
     "output_type": "stream",
     "text": [
      "C:\\Users\\Scott\\AppData\\Local\\Temp\\ipykernel_5588\\2975178244.py:21: FutureWarning: Setting an item of incompatible dtype is deprecated and will raise an error in a future version of pandas. Value '8.5' has dtype incompatible with int64, please explicitly cast to a compatible dtype first.\n",
      "  gdf_edges.loc[gdf_edges[prefix]=='yes', 'width_parking'] = 8.5 # ft\n"
     ]
    }
   ],
   "source": [
    "def parking_present(gdf_edges):\n",
    "    \"\"\"\n",
    "    Detect where parking is and isn't allowed.\n",
    "    \"\"\"\n",
    "    # tags = gdfEdges.columns[gdfEdges.columns.str.contains('parking')]\n",
    "    # for tag in tags.sort_values():\n",
    "    #     print(tag, gdfEdges[tag].unique())\n",
    "\n",
    "    prefix = 'parking'\n",
    "    defaultRule = f'{prefix}0'\n",
    "\n",
    "    gdf_edges[prefix] = 'yes'\n",
    "    gdf_edges[f'{prefix}_rule_num'] = defaultRule\n",
    "    gdf_edges[f'{prefix}_rule'] = 'Assume street parking is allowed on both sides'\n",
    "    gdf_edges[f'{prefix}_condition'] = 'default'\n",
    "\n",
    "    gdf_edges = apply_rules(gdf_edges, rating_dict, prefix)\n",
    "\n",
    "\n",
    "    gdf_edges['width_parking'] = 0\n",
    "    gdf_edges.loc[gdf_edges[prefix]=='yes', 'width_parking'] = 8.5 # ft\n",
    "\n",
    "    return gdf_edges\n",
    "\n",
    "rating_dict = read_rating()\n",
    "gdf_parking = parking_present(gdf_bike_lanes.copy())\n",
    "\n",
    "rules_used = gdf_parking['parking_rule_num'].unique().tolist()\n",
    "rules_used = [int(s[7:]) for s in rules_used]\n",
    "rules_used.sort()\n",
    "print(rules_used)"
   ]
  },
  {
   "cell_type": "code",
   "execution_count": 56,
   "metadata": {},
   "outputs": [
    {
     "name": "stdout",
     "output_type": "stream",
     "text": [
      "maxspeed [nan '25 mph' '30 mph' '20 mph' '15 mph' '35 mph' '25' '40 mph' '20'\n",
      " '55 mph' '10 mph' '5 mph']\n",
      "maxspeed:advisory [nan '5 mph']\n",
      "maxspeed:type [nan 'US:urban' 'sign']\n",
      "source:maxspeed [nan 'massgis']\n",
      "\n",
      "---\n",
      "\n",
      "area:highway [nan 'traffic_island' 'yes']\n",
      "construction:highway [nan 'cycleway']\n",
      "highway ['footway' 'residential' 'secondary' 'unclassified' 'trunk' 'service'\n",
      " 'tertiary' 'primary' 'cycleway' 'path' 'primary_link' 'pedestrian'\n",
      " 'trunk_link' 'tertiary_link' 'secondary_link' 'construction'\n",
      " 'living_street' 'busway' 'track']\n",
      "note:highway [nan 'busway']\n"
     ]
    }
   ],
   "source": [
    "tags = gdfEdges.columns[gdfEdges.columns.str.contains('speed')]\n",
    "for tag in tags.sort_values():\n",
    "    print(tag, gdfEdges[tag].unique())\n",
    "\n",
    "print('\\n---\\n')\n",
    "tags = gdfEdges.columns[gdfEdges.columns.str.contains('highway')]\n",
    "for tag in tags.sort_values():\n",
    "    print(tag, gdfEdges[tag].unique())"
   ]
  },
  {
   "cell_type": "code",
   "execution_count": 57,
   "metadata": {},
   "outputs": [
    {
     "name": "stdout",
     "output_type": "stream",
     "text": [
      "['25 mph' nan '35 mph' '25' '20 mph' '40 mph' '30 mph']\n"
     ]
    }
   ],
   "source": [
    "print(gdfEdges[gdfEdges['highway'] == 'primary']['maxspeed'].unique())"
   ]
  },
  {
   "cell_type": "code",
   "execution_count": 58,
   "metadata": {},
   "outputs": [
    {
     "name": "stdout",
     "output_type": "stream",
     "text": [
      "[0, 1, 2, 3, 4, 5, 6, 7, 8, 9, 10, 11, 12]\n",
      "[25 30 20 35 40 50 15  0 55 10  5]\n"
     ]
    }
   ],
   "source": [
    "def get_prevailing_speed(gdf_edges):\n",
    "    \"\"\"\n",
    "    Get the speed limit for ways\n",
    "    If not available, make assumptions based on road type\n",
    "    This errs on the high end of assumptions\n",
    "    \"\"\"\n",
    "    prefix = 'speed'\n",
    "    speedRules = {k:v for (k,v) in rating_dict.items() if prefix in k}\n",
    "    defaultRule = f'{prefix}0'\n",
    "\n",
    "    # FIXME if change to apply assumed values first then replace with OSM data, can use common function\n",
    "    gdf_edges['speed'] = gdf_edges['maxspeed'] \n",
    "    gdf_edges['speed'] = gdf_edges['speed'].fillna(0)\n",
    "    gdf_edges['speed_rule_num'] = defaultRule\n",
    "    gdf_edges['speed_rule'] = 'Use signed speed limits.'\n",
    "    gdf_edges['speed_condition'] = 'default'\n",
    "\n",
    "    for key, value in speedRules.items():\n",
    "        # Check rules in order, once something has been updated, leave it be\n",
    "        gdf_filter = gdf_edges.eval(f\"{value['condition']} & (`speed` == 0)\")\n",
    "        gdf_edges.loc[gdf_filter, 'speed'] = value['speed']\n",
    "        gdf_edges.loc[gdf_filter, 'speed_rule_num'] = key\n",
    "        gdf_edges.loc[gdf_filter, 'speed_rule'] = value['rule_message']\n",
    "        gdf_edges.loc[gdf_filter, 'speed_condition'] = value['condition']\n",
    "\n",
    "    # If mph\n",
    "    if gdf_edges[gdf_edges['speed'].astype(str).str.contains('mph')].shape[0] > 0:\n",
    "        mph = gdf_edges['speed'].astype(str).str.contains('mph', na=False)\n",
    "        gdf_edges.loc[mph, 'speed'] = gdf_edges['speed'][mph].str.split(\n",
    "            ' ', expand=True)[0].apply(lambda x: np.array(x, dtype = 'int'))\n",
    "\n",
    "    # # if multiple speed values present, use the largest one\n",
    "    # gdf_edges['maxspeed_assumed'] = gdf_edges['maxspeed_assumed'].apply(\n",
    "    #     lambda x: np.array(x, dtype = 'int')).apply(lambda x: np.max(x))\n",
    "\n",
    "    # Make sure all speeds are numbers\n",
    "    gdf_edges['speed'] = gdf_edges['speed'].astype(int)\n",
    "    # Save memory by setting as category, need to set categories first\n",
    "    for col in ['speed_rule_num', 'speed_rule', 'speed_condition']:\n",
    "        gdf_edges[col] = gdf_edges[col].astype('category')\n",
    "\n",
    "    return gdf_edges\n",
    "\n",
    "rating_dict = read_rating()\n",
    "gdf_speed = get_prevailing_speed(gdf_parking.copy())\n",
    "\n",
    "rules_used = gdf_speed['speed_rule_num'].unique().tolist()\n",
    "rules_used = [int(s[5:]) for s in rules_used]\n",
    "rules_used.sort()\n",
    "print(rules_used)\n",
    "\n",
    "print(gdf_speed['speed'].unique())"
   ]
  },
  {
   "cell_type": "code",
   "execution_count": 59,
   "metadata": {},
   "outputs": [
    {
     "name": "stdout",
     "output_type": "stream",
     "text": [
      "[nan '2' '1' '3' '4' '5' '7']\n"
     ]
    }
   ],
   "source": [
    "print(gdfEdges['lanes'].unique())"
   ]
  },
  {
   "cell_type": "code",
   "execution_count": 60,
   "metadata": {},
   "outputs": [],
   "source": [
    "def get_lanes(gdf_edges, default_lanes = 2):\n",
    "\n",
    "    # make new assumed lanes column for use in calculations\n",
    "\n",
    "    # fill na with default lanes\n",
    "    # if multiple lane values present, use the largest one\n",
    "    # this usually happens if multiple adjacent ways are included in the edge and \n",
    "    # there's a turning lane\n",
    "    gdf_edges['lane_count'] = gdf_edges['lanes'].fillna(default_lanes).apply(\n",
    "        lambda x: np.array(re.split(r'; |, |\\*|\\n', str(x)), dtype = 'int')).apply( \n",
    "            # Converted to a raw string to avoid 'SyntaxWarning: invalid escape sequence '\\*' python re',\n",
    "            # check that this is doing the right thing\n",
    "            lambda x: np.max(x))\n",
    "    \n",
    "    gdf_edges['lane_source'] = 'OSM'\n",
    "    assumed = gdf_edges['lanes'] == np.nan\n",
    "    gdf_edges.loc[assumed, 'lane_source'] = 'Assumed lane count'\n",
    "\n",
    "    return gdf_edges\n",
    "\n",
    "rating_dict = read_rating()\n",
    "gdf_lanes = get_lanes(gdf_speed.copy())"
   ]
  },
  {
   "cell_type": "code",
   "execution_count": 61,
   "metadata": {},
   "outputs": [
    {
     "name": "stdout",
     "output_type": "stream",
     "text": [
      "[2 1 3 4 5 7]\n"
     ]
    }
   ],
   "source": [
    "print(gdf_lanes['lane_count'].unique())"
   ]
  },
  {
   "cell_type": "code",
   "execution_count": 62,
   "metadata": {},
   "outputs": [
    {
     "name": "stdout",
     "output_type": "stream",
     "text": [
      "lane_markings [nan 'no' 'yes']\n"
     ]
    }
   ],
   "source": [
    "tags = gdfEdges.columns[gdfEdges.columns.str.contains('lane_markings')]\n",
    "for tag in tags.sort_values():\n",
    "    print(tag, gdfEdges[tag].unique())"
   ]
  },
  {
   "cell_type": "code",
   "execution_count": 63,
   "metadata": {},
   "outputs": [
    {
     "name": "stdout",
     "output_type": "stream",
     "text": [
      "[0, 1, 2, 3, 4, 5, 6, 7, 8, 9, 10, 11, 12, 13, 14]\n"
     ]
    }
   ],
   "source": [
    "# This is new.\n",
    "# The newer LTS rating takes into account whether there is a centerline striped or not.\n",
    "def get_centerlines(gdf_edges):\n",
    "\n",
    "    prefix = 'centerline'\n",
    "    defaultRule = f'{prefix}0'\n",
    "\n",
    "    gdf_edges[prefix] = 'yes'\n",
    "    gdf_edges[f'{prefix}_rule_num'] = defaultRule\n",
    "    gdf_edges[f'{prefix}_rule'] = 'Assume centerlines.'\n",
    "    gdf_edges[f'{prefix}_condition'] = 'default'\n",
    "\n",
    "    gdf_edges = apply_rules(gdf_edges, rating_dict, prefix)\n",
    "\n",
    "    return gdf_edges\n",
    "\n",
    "rating_dict = read_rating()\n",
    "gdf_centerlines = get_centerlines(gdf_lanes.copy())\n",
    "\n",
    "rules_used = gdf_centerlines['centerline_rule_num'].unique().tolist()\n",
    "rules_used = [int(s[10:]) for s in rules_used]\n",
    "rules_used.sort()\n",
    "print(rules_used)"
   ]
  },
  {
   "cell_type": "code",
   "execution_count": 64,
   "metadata": {},
   "outputs": [
    {
     "name": "stdout",
     "output_type": "stream",
     "text": [
      "cycleway:width [nan \"5'\" '6\\'0\"' '3\\'0\"']\n",
      "source:width [nan 'ARCore']\n",
      "width [nan '7.6' '9.5' '15.2' '21.3' '14.9' '12.2' '11.6' '30.5' '18.9' '20.7'\n",
      " '11.0' '7.3' '15.9' '9.1' '17\\'0\"' '11.9' '20\\'0\"' '17.1' '24.4' '14.0'\n",
      " '18.3' '24\\'0\"' '30.2' '14.6' '15.2;18.6' '13.4' '25.9' '6.7' '28.0'\n",
      " '36.6' '16.8' '3.7' '19.8' '10.4;12.2' '11.7' '4.3' '4.6' '8.5' '12.8'\n",
      " '10.4' '15.5' '13.7' '6.1' '25.6' '9.8' '4.9' '26.8' '3.0' '11.3' '5.5'\n",
      " '10.7' '19.2' '7.9' '5.8' '8.2' '10.1' '28\\'0\"' '20.1' '18.6' '6.4' '5.2'\n",
      " '16.5' '14.3' '17.7' '19.5' '38.1' '8.8' '22.9' '30\\'0\"' '16.2' '4.7'\n",
      " '16.8;15.2' '7' '2' '12.5' '46\\'0\"' '50\\'0\"' '16.1' '27\\'0\"' '91.5'\n",
      " '18.0' '11.6;10.4' '5' '27.4' '8\\'0\"' '3.3' '3' '3.5' '8\\'8\"' '5\\'0\"' '6'\n",
      " '21\\'0\"' \"10'\" '1' '2.7' '1.5' '9\\'0\"' '8' '10\\'0\"' '12\\'0\"' '1.4' \"8'\"\n",
      " '7.0' '1.8' '6\\'0\"' '16\\'0\"']\n",
      "width:carriageway [nan '9' '8']\n",
      "width:lanes [nan '3|3']\n",
      "cycleway:both:buffer [nan 'no' 'yes']\n",
      "cycleway:buffer [nan \"2'\"]\n",
      "cycleway:left:buffer [nan 'yes']\n",
      "cycleway:right:buffer [nan 'yes']\n"
     ]
    }
   ],
   "source": [
    "tags = gdfEdges.columns[gdfEdges.columns.str.contains('width')]\n",
    "for tag in tags.sort_values():\n",
    "    print(tag, gdfEdges[tag].unique())\n",
    "\n",
    "tags = gdfEdges.columns[gdfEdges.columns.str.contains('buffer')]\n",
    "for tag in tags.sort_values():\n",
    "    print(tag, gdfEdges[tag].unique())"
   ]
  },
  {
   "cell_type": "code",
   "execution_count": 65,
   "metadata": {},
   "outputs": [],
   "source": [
    "def convert_feet_with_quotes(series):\n",
    "    series = series.copy()\n",
    "    # Calculate decimal feet and inches when each given separately\n",
    "    quoteValues = series.str.contains('\\'')\n",
    "    meterValues = quoteValues == False\n",
    "\n",
    "    quoteValues[quoteValues.isna()] = False\n",
    "    quoteValues = quoteValues.astype(bool)\n",
    "\n",
    "    feetinch = series[quoteValues].str.strip('\"').str.split('\\'', expand=True)\n",
    "    feetinch.loc[feetinch[1] == '', 1] = 0\n",
    "    feetinch = feetinch.apply(lambda x: np.array(x, dtype = 'int'))\n",
    "    if feetinch.shape[0] > 0:\n",
    "        feet = feetinch[0] + feetinch[1] / 12\n",
    "        series[quoteValues] = feet\n",
    "\n",
    "    # Use larger value if given multiple\n",
    "    multiWidth = series.str.contains(';', na=False) \n",
    "\n",
    "    maxWidth = series[multiWidth].str.split(';', expand=True).max(axis=1)\n",
    "    series[multiWidth] = maxWidth\n",
    "\n",
    "    series = series.apply(lambda x: np.array(x, dtype = 'float'))\n",
    "\n",
    "    # Convert (assumed) meter values to feet\n",
    "    series[meterValues] = series[meterValues].astype(float) * 3.28084\n",
    "\n",
    "    series_notes = pd.Series('No Width', index=series.index)\n",
    "    series_notes[quoteValues] = 'Converted ft-in to decimal feet'\n",
    "    series_notes[meterValues] = 'Converted m to feet'\n",
    "\n",
    "    return series, series_notes\n",
    "\n",
    "def width_ft(gdf_edges):\n",
    "    '''\n",
    "    Convert OSM width columns to use decimal feet\n",
    "    '''\n",
    "    # print('width_ft')\n",
    "    gdf_edges['width_street'], gdf_edges['width_street_notes'] = convert_feet_with_quotes(gdf_edges['width'])\n",
    "    # print('cycleway:width_ft')\n",
    "    gdf_edges['width_bikelane'], gdf_edges['width_bikelane_notes'] = convert_feet_with_quotes(gdf_edges['cycleway:width'])\n",
    "\n",
    "    gdf_edges['width_bikelanebuffer'], gdf_edges['width_bikelanebuffer_notes'] = convert_feet_with_quotes(gdf_edges['cycleway:buffer'])\n",
    "\n",
    "    # FIXME make this work for asymmetric layouts\n",
    "    gdf_edges['bikelane_reach'] = gdf_edges['width_bikelane'] + gdf_edges['width_parking'] + gdf_edges['width_bikelanebuffer']\n",
    "\n",
    "\n",
    "    return gdf_edges\n",
    "\n",
    "gdf_width_ft = width_ft(gdf_centerlines.copy())"
   ]
  },
  {
   "cell_type": "code",
   "execution_count": 66,
   "metadata": {},
   "outputs": [
    {
     "name": "stdout",
     "output_type": "stream",
     "text": [
      "[  3.28084      4.593176     4.92126      5.           5.905512\n",
      "   6.           6.56168      8.           8.66666667   8.858268\n",
      "   9.           9.84252     10.          10.826772    11.48294\n",
      "  12.          12.139108    14.107612    15.091864    15.419948\n",
      "  16.          16.076116    16.4042      17.          17.060368\n",
      "  18.04462     19.028872    19.68504     20.          20.013124\n",
      "  20.997376    21.          21.981628    22.96588     23.950132\n",
      "  24.          24.934384    25.918636    26.24672     26.902888\n",
      "  27.          27.88714     28.          28.871392    29.855644\n",
      "  30.          31.16798     32.152232    33.136484    34.120736\n",
      "  35.104988    36.08924     37.073492    38.057744    38.385828\n",
      "  39.041996    40.026248    41.0105      41.994752    43.963256\n",
      "  44.947508    45.93176     46.          46.916012    47.900264\n",
      "  48.884516    49.868768    50.          50.85302     52.165356\n",
      "  52.821524    53.149608    54.13386     55.118112    56.102364\n",
      "  58.070868    59.05512     60.039372    61.023624    62.007876\n",
      "  62.992128    63.97638     64.960632    65.944884    67.913388\n",
      "  69.881892    75.131236    80.052496    83.989504    84.973756\n",
      "  87.926512    89.895016    91.86352     99.081368   100.06562\n",
      " 120.078744   125.000004   300.19686             nan]\n",
      "[ 3.  5.  6. nan]\n"
     ]
    }
   ],
   "source": [
    "streetWidth = gdf_width_ft['width_street'].unique()\n",
    "cyclewayWidth = gdf_width_ft['width_bikelane'].unique()\n",
    "\n",
    "streetWidth.sort()\n",
    "cyclewayWidth.sort()\n",
    "\n",
    "print(streetWidth)\n",
    "print(cyclewayWidth)"
   ]
  },
  {
   "cell_type": "code",
   "execution_count": 67,
   "metadata": {},
   "outputs": [
    {
     "name": "stdout",
     "output_type": "stream",
     "text": [
      "cycleway:left:oneway [nan '-1' 'no']\n",
      "cycleway:right:oneway [nan 'no']\n",
      "oneway [False  True]\n",
      "oneway:bicycle [nan 'no' 'yes']\n",
      "oneway:conditional [nan '-1 @ (17:00-19:00); ' 'yes @ (07:00-09:00,15:00-19:00)']\n",
      "parking ['yes' 'no' 'left:no' 'left:yes' 'right:no' 'right:yes']\n",
      "parking:both [nan 'no' 'lane' 'separate' 'street_side']\n",
      "parking:both:orientation [nan 'parallel']\n",
      "parking:condition:both [nan 'no_parking' 'no_stopping' 'ticket;residents']\n",
      "parking:condition:left [nan 'no_parking' 'residents' 'ticket;residents']\n",
      "parking:condition:right [nan 'no_parking' 'residents']\n",
      "parking:lane:both [nan 'parallel' 'no_stopping' 'no']\n",
      "parking:lane:both:parallel [nan 'on_street']\n",
      "parking:lane:left [nan 'parallel' 'no_stopping' 'no']\n",
      "parking:lane:left:parallel [nan 'on_street']\n",
      "parking:lane:right [nan 'no_stopping' 'parallel' 'no']\n",
      "parking:lane:right:parallel [nan 'on_street' 'painted_area_only']\n",
      "parking:left [nan 'no' 'lane' 'separate' 'street_side']\n",
      "parking:left:orientation [nan 'parallel']\n",
      "parking:left:restriction [nan 'no_stopping']\n",
      "parking:right [nan 'lane' 'no' 'separate' 'street_side']\n",
      "parking:right:access [nan 'permit']\n",
      "parking:right:fee [nan 'yes']\n",
      "parking:right:orientation [nan 'parallel']\n",
      "parking_condition ['default', '(`parking:both` == 'no')', '(`parking:left` == 'no')', '(`parking:both` == 'lane')', '(`parking:left` == 'lane')', ..., '(`parking:both` == 'street_side')', '(`parking:condition:both` == 'no_parking')', '(`parking:right` == 'separate')', '(`parking:condition:both` == 'no_stopping')', '(`parking:left` == 'street_side')']\n",
      "Length: 22\n",
      "Categories (22, object): ['(`parking:both` == 'lane')', '(`parking:both` == 'no')', '(`parking:both` == 'separate')', '(`parking:both` == 'street_side')', ..., '(`parking:right` == 'lane')', '(`parking:right` == 'no')', '(`parking:right` == 'separate')', 'default']\n",
      "parking_rule ['Assume street parking is allowed on both sides', 'Parking not allowed on either side.', 'Parking not allowed on the left.', 'Parking allowed on both sides.', 'Parking allowed on the left.', ..., 'Stopping not allowed on the left.', 'Parking allowed on the right.', 'Parallel parking on the right.', 'Parking separately mapped on the left.', 'Parking separately mapped on the right.']\n",
      "Length: 15\n",
      "Categories (15, object): ['Assume street parking is allowed on both sides', 'Parallel parking on both sides.', 'Parallel parking on the left.', 'Parallel parking on the right.', ..., 'Parking separately mapped on the left.', 'Parking separately mapped on the right.', 'Stopping not allowed on either side.', 'Stopping not allowed on the left.']\n",
      "parking_rule_num ['parking0', 'parking1', 'parking21', 'parking2', 'parking22', ..., 'parking3', 'parking6', 'parking44', 'parking7', 'parking23']\n",
      "Length: 22\n",
      "Categories (22, object): ['parking0', 'parking1', 'parking10', 'parking2', ..., 'parking6', 'parking7', 'parking8', 'parking9']\n",
      "width_parking [8.5 0. ]\n"
     ]
    }
   ],
   "source": [
    "tags = gdfEdges.columns[gdfEdges.columns.str.contains('one')]\n",
    "for tag in tags.sort_values():\n",
    "    print(tag, gdfEdges[tag].unique())\n",
    "\n",
    "tags = gdf_width_ft.columns[gdf_width_ft.columns.str.contains('parking')]\n",
    "for tag in tags.sort_values():\n",
    "    print(tag, gdf_width_ft[tag].unique())"
   ]
  },
  {
   "cell_type": "code",
   "execution_count": 69,
   "metadata": {},
   "outputs": [],
   "source": [
    "# This is new.\n",
    "# There are some conditions where the wideness of the street affects the rating in the new LTS ratings.\n",
    "def define_narrow_wide(gdf_edges):\n",
    "\n",
    "    gdf_edges['street_narrow_wide'] = 'wide'\n",
    "\n",
    "    gdf_edges[(gdf_edges['oneway'] == 'True') & (gdf_edges['width_street'] < 30) & (gdf_edges['parking'] == 'yes')] = 'narrow'\n",
    "\n",
    "    # FIXME make sure only single side has parking and not ignoring where one side is explicit yes and the other is explicit no\n",
    "    gdf_edges[(gdf_edges['oneway'] == 'True') & (gdf_edges['width_street'] < 22) & (gdf_edges['parking'] == 'left:yes')] = 'narrow'\n",
    "    gdf_edges[(gdf_edges['oneway'] == 'True') & (gdf_edges['width_street'] < 22) & (gdf_edges['parking'] == 'right:yes')] = 'narrow'\n",
    "\n",
    "    gdf_edges[(gdf_edges['oneway'] == 'True') & (gdf_edges['width_street'] < 15) & (gdf_edges['parking'] == 'no')] = 'narrow'\n",
    "\n",
    "    return gdf_edges\n",
    "\n",
    "rating_dict = read_rating()\n",
    "gdf_nw = define_narrow_wide(gdf_width_ft.copy())"
   ]
  },
  {
   "cell_type": "code",
   "execution_count": 70,
   "metadata": {},
   "outputs": [],
   "source": [
    "# This is new.\n",
    "def define_adt(gdf_edges):\n",
    "    '''\n",
    "    Add the Average Daily Traffic (ADT) value to each segment to use the right row of LTS tables.\n",
    "\n",
    "    Use assumptions based on roadway type. \n",
    "\n",
    "    FUTURE: Get ADT measurements from cities or Streetlight to improve values.\n",
    "    '''\n",
    "\n",
    "    prefix = 'ADT'\n",
    "    defaultRule = f'{prefix}0'\n",
    "\n",
    "    gdf_edges[prefix] = 1500 # FIXME is this the right default?\n",
    "    gdf_edges[f'{prefix}_rule_num'] = defaultRule\n",
    "    gdf_edges[f'{prefix}_rule'] = 'Assume centerlines.'\n",
    "    gdf_edges[f'{prefix}_condition'] = 'default'\n",
    "\n",
    "    gdf_edges = apply_rules(gdf_edges, rating_dict, prefix)\n",
    "\n",
    "    return gdf_edges\n",
    "\n",
    "rating_dict = read_rating()\n",
    "gdf_adt = define_adt(gdf_nw.copy())"
   ]
  },
  {
   "cell_type": "code",
   "execution_count": 71,
   "metadata": {},
   "outputs": [
    {
     "name": "stdout",
     "output_type": "stream",
     "text": [
      "[2 1 3 4 5 7]\n",
      "[25 30 20 35 40 50 15  0 55 10  5]\n",
      "[1500]\n"
     ]
    }
   ],
   "source": [
    "print(gdf_adt['lane_count'].unique())\n",
    "print(gdf_adt['speed'].unique())\n",
    "print(gdf_adt['ADT'].unique())"
   ]
  },
  {
   "cell_type": "code",
   "execution_count": 72,
   "metadata": {},
   "outputs": [],
   "source": [
    "tags = gdf_adt.columns[gdf_adt.columns.str.contains('contra')]\n",
    "for tag in tags.sort_values():\n",
    "    print(tag, gdf_adt[tag].unique())"
   ]
  },
  {
   "cell_type": "code",
   "execution_count": 91,
   "metadata": {},
   "outputs": [
    {
     "name": "stdout",
     "output_type": "stream",
     "text": [
      "['table_mixed_1', 'table_mixed_2', 'table_mixed_3', 'table_mixed_4', 'table_mixed_5']\n",
      "\n",
      "subTable='table_mixed_1'\n",
      "\n",
      "subTable='table_mixed_2'\n",
      "\n",
      "subTable='table_mixed_3'\n",
      "\n",
      "subTable='table_mixed_4'\n",
      "\n",
      "subTable='table_mixed_5'\n",
      "['table_bikelane_noparking_1', 'table_bikelane_noparking_2', 'table_bikelane_noparking_3']\n",
      "\n",
      "subTable='table_bikelane_noparking_1'\n",
      "\n",
      "subTable='table_bikelane_noparking_2'\n",
      "\n",
      "subTable='table_bikelane_noparking_3'\n",
      "['table_bikelane_yesparking_1', 'table_bikelane_yesparking_2', 'table_bikelane_yesparking_3', 'table_bikelane_yesparking_4']\n",
      "\n",
      "subTable='table_bikelane_yesparking_1'\n",
      "\n",
      "subTable='table_bikelane_yesparking_2'\n",
      "\n",
      "subTable='table_bikelane_yesparking_3'\n",
      "\n",
      "subTable='table_bikelane_yesparking_4'\n"
     ]
    }
   ],
   "source": [
    "def evaluate_lts_table(gdf_edges, tables, tableName):\n",
    "    baseName = tableName[6:]\n",
    "    table = tables[tableName]\n",
    "\n",
    "    subTables = [key for key in table.keys() if tableName in key]\n",
    "    print(subTables)\n",
    "\n",
    "    speedMin = tables['cols_speeds']['min']\n",
    "    speedMax = tables['cols_speeds']['max']\n",
    "\n",
    "    gdf_edges[f'LTS_{baseName}'] = np.nan\n",
    "\n",
    "    conditionTable = table['conditions']\n",
    "\n",
    "    for subTable in subTables:\n",
    "        print(f'\\n{subTable=}')\n",
    "        # print(f'{table[subTable]['conditions']=}')\n",
    "        for conditionTableName in table['conditions']:\n",
    "            conditionTable = table['conditions'][conditionTableName]\n",
    "            # print(conditionTable)\n",
    "            for conditionName in table[subTable]['conditions']:\n",
    "                bucketColumn = table['bucketColumn']\n",
    "                bucketTable = table[subTable][f'table_{bucketColumn}']\n",
    "                ltsSpeeds = table[subTable]['table_speed']\n",
    "                for bucket, ltsSpeed in zip(bucketTable, ltsSpeeds):\n",
    "                    conditionBucket = f'(`{bucketColumn}` >= {bucket[0]}) & (`{bucketColumn}` < {bucket[1]})'\n",
    "                    for sMin, sMax, lts in zip(speedMin, speedMax, ltsSpeed):\n",
    "                        condition = table[subTable]['conditions'][conditionName]\n",
    "                        conditionSpeed = f'(`speed` > {sMin}) & (`speed` < {sMax})'\n",
    "                        condition = f'{condition} & {conditionSpeed} & {conditionBucket} & {conditionTable}'\n",
    "                        # print(f'\\t{conditionName} | {condition}')\n",
    "                        gdf_filter = gdf_edges.eval(f\"{condition}\")\n",
    "                        gdf_edges.loc[gdf_filter, f'LTS_{baseName}'] = lts\n",
    "                # gdf_edges.loc[gdf_filter, f'{prefix}_rule_num'] = key\n",
    "            \n",
    "\n",
    "    return gdf_edges\n",
    "\n",
    "def calculate_lts(gdf_edges, tables):\n",
    "    # print(tables)\n",
    "    tablesList = [key for key in tables.keys() if 'table_' in key]\n",
    "\n",
    "    for tableName in tablesList:\n",
    "        gdf_edges = evaluate_lts_table(gdf_edges, tables, tableName)\n",
    "\n",
    "    # Use the lowest calculated LTS score for a segment (in case mixed is lower than bike lane)\n",
    "    gdf_edges['LTS'] = gdf_edges.loc[:, gdf_edges.columns.str.contains('LTS')].min(axis=1, skipna=True, numeric_only=True)\n",
    "\n",
    "    return gdf_edges\n",
    "\n",
    "\n",
    "rating_dict = read_rating()\n",
    "tables = read_tables()\n",
    "gdf_lts = calculate_lts(gdf_adt.copy(), tables)"
   ]
  },
  {
   "cell_type": "code",
   "execution_count": 87,
   "metadata": {},
   "outputs": [
    {
     "name": "stdout",
     "output_type": "stream",
     "text": [
      "gdf_lts['LTS'].unique()=array([ 1.,  2., nan,  3.,  4.,  0.])\n",
      "gdf_lts['LTS_mixed'].unique()=array([ 1.,  2., nan,  3.,  4.])\n",
      "gdf_lts['centerline'].unique()=array(['no', 'yes'], dtype=object)\n",
      "gdf_lts['lane_count'].unique()=array([2, 1, 3, 4, 5, 7])\n",
      "gdf_lts['oneway'].unique()=array([False,  True])\n"
     ]
    }
   ],
   "source": [
    "print(f\"{gdf_lts['LTS'].unique()=}\")\n",
    "print(f\"{gdf_lts['LTS_mixed'].unique()=}\")\n",
    "print(f\"{gdf_lts['centerline'].unique()=}\")\n",
    "print(f\"{gdf_lts['lane_count'].unique()=}\")\n",
    "print(f\"{gdf_lts['oneway'].unique()=}\")"
   ]
  },
  {
   "cell_type": "code",
   "execution_count": 88,
   "metadata": {},
   "outputs": [
    {
     "data": {
      "text/plain": [
       "(5054, 234)"
      ]
     },
     "execution_count": 88,
     "metadata": {},
     "output_type": "execute_result"
    }
   ],
   "source": [
    "gdf_lts.loc[gdf_lts.eval(\"(`centerline` == 'no') & (`lane_count` == 2) & (`oneway` == False) & (`speed` > 0) & (`speed` < 23.5) & (`ADT` >= 751) & (`ADT` < 1501)\")].shape"
   ]
  }
 ],
 "metadata": {
  "kernelspec": {
   "display_name": ".venv",
   "language": "python",
   "name": "python3"
  },
  "language_info": {
   "codemirror_mode": {
    "name": "ipython",
    "version": 3
   },
   "file_extension": ".py",
   "mimetype": "text/x-python",
   "name": "python",
   "nbconvert_exporter": "python",
   "pygments_lexer": "ipython3",
   "version": "3.12.4"
  }
 },
 "nbformat": 4,
 "nbformat_minor": 2
}
